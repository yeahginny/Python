{
  "nbformat": 4,
  "nbformat_minor": 0,
  "metadata": {
    "colab": {
      "provenance": [],
      "include_colab_link": true
    },
    "kernelspec": {
      "name": "python3",
      "display_name": "Python 3"
    },
    "language_info": {
      "name": "python"
    }
  },
  "cells": [
    {
      "cell_type": "markdown",
      "metadata": {
        "id": "view-in-github",
        "colab_type": "text"
      },
      "source": [
        "<a href=\"https://colab.research.google.com/github/yeahginny/Python/blob/main/100%EC%A0%9C_1%EB%B2%88%EB%B6%80%ED%84%B0_100%EB%B2%88%EA%B9%8C%EC%A7%80.ipynb\" target=\"_parent\"><img src=\"https://colab.research.google.com/assets/colab-badge.svg\" alt=\"Open In Colab\"/></a>"
      ]
    },
    {
      "cell_type": "markdown",
      "source": [
        "# 1번"
      ],
      "metadata": {
        "id": "s2kbqJrEgik2"
      }
    },
    {
      "cell_type": "code",
      "execution_count": null,
      "metadata": {
        "id": "oMGxcKNlcpXo"
      },
      "outputs": [],
      "source": [
        "nums = [100, 200, 300, 400, 500]"
      ]
    },
    {
      "cell_type": "code",
      "source": [
        "# 정답1\n",
        "nums.pop()\n",
        "nums.pop()"
      ],
      "metadata": {
        "id": "Cxg9iQlIg2Sm"
      },
      "execution_count": null,
      "outputs": []
    },
    {
      "cell_type": "code",
      "source": [
        "# 정답2\n",
        "nums[:3]"
      ],
      "metadata": {
        "id": "dIENQBK_g5gV"
      },
      "execution_count": null,
      "outputs": []
    },
    {
      "cell_type": "code",
      "source": [
        "nums = [100, 200, 300, 400, 500]\n",
        "nums[-5:-2]"
      ],
      "metadata": {
        "colab": {
          "base_uri": "https://localhost:8080/"
        },
        "id": "sX0pEyU_hA6V",
        "outputId": "298593f0-0982-4686-af4c-3ced22f70163"
      },
      "execution_count": null,
      "outputs": [
        {
          "output_type": "execute_result",
          "data": {
            "text/plain": [
              "[100, 200, 300]"
            ]
          },
          "metadata": {},
          "execution_count": 2
        }
      ]
    },
    {
      "cell_type": "markdown",
      "source": [
        "# 2번"
      ],
      "metadata": {
        "id": "_4Iy7VGAhROf"
      }
    },
    {
      "cell_type": "code",
      "source": [
        "l = [200, 100, 300]\n",
        "l.insert(2, 10000)\n",
        "print(l)"
      ],
      "metadata": {
        "colab": {
          "base_uri": "https://localhost:8080/"
        },
        "id": "UZ2ahGKohVko",
        "outputId": "0b378531-29a5-470c-c5e1-887be01bff03"
      },
      "execution_count": null,
      "outputs": [
        {
          "output_type": "stream",
          "name": "stdout",
          "text": [
            "[200, 100, 10000, 300]\n"
          ]
        }
      ]
    },
    {
      "cell_type": "code",
      "source": [
        "# l[:2] + [10000] + l[-1] #error\n",
        "l[:2] + [10000] + [l[-1]]"
      ],
      "metadata": {
        "colab": {
          "base_uri": "https://localhost:8080/"
        },
        "id": "B_HU6U-Khabl",
        "outputId": "8630d52e-4656-4793-d2ec-040643278603"
      },
      "execution_count": null,
      "outputs": [
        {
          "output_type": "execute_result",
          "data": {
            "text/plain": [
              "[200, 100, 10000, 300]"
            ]
          },
          "metadata": {},
          "execution_count": 8
        }
      ]
    },
    {
      "cell_type": "markdown",
      "source": [
        "# 5번"
      ],
      "metadata": {
        "id": "6gG9v-dvh8IB"
      }
    },
    {
      "cell_type": "code",
      "source": [
        "a = 10\n",
        "b = 2\n",
        "for i in range(1, 5, 2):\n",
        "    a += i\n",
        "\n",
        "print(a + b)"
      ],
      "metadata": {
        "colab": {
          "base_uri": "https://localhost:8080/"
        },
        "id": "izRJxHcxh9zK",
        "outputId": "b4416757-47f1-4ace-9751-e59f10dc43db"
      },
      "execution_count": null,
      "outputs": [
        {
          "output_type": "stream",
          "name": "stdout",
          "text": [
            "1\n",
            "3\n",
            "16\n"
          ]
        }
      ]
    },
    {
      "cell_type": "markdown",
      "source": [
        "# 6번"
      ],
      "metadata": {
        "id": "Xs-zulKfiToO"
      }
    },
    {
      "cell_type": "code",
      "source": [
        "# 다음중 True인 것은? 2번\n",
        "# 1)  None\n",
        "# 2)  1\n",
        "# 3)  \"\"\n",
        "# 4)  0\n",
        "# 5)  bool(0)"
      ],
      "metadata": {
        "id": "jS0eGv9TiSYu"
      },
      "execution_count": null,
      "outputs": []
    },
    {
      "cell_type": "code",
      "source": [
        "bool([]) # False\n",
        "bool([1, 2, 3]) # True"
      ],
      "metadata": {
        "id": "25OL1dh0iYod"
      },
      "execution_count": null,
      "outputs": []
    },
    {
      "cell_type": "code",
      "source": [
        "# l의 값이 변한 적이 있다? 없다. 그런데 왜 bool 값은 변했을까?\n",
        "l = []\n",
        "print(id(l))\n",
        "print(bool(l))"
      ],
      "metadata": {
        "colab": {
          "base_uri": "https://localhost:8080/"
        },
        "id": "-zBOOpF-il9W",
        "outputId": "e5bf5ebb-92e9-4266-ed02-b6765c20ed02"
      },
      "execution_count": null,
      "outputs": [
        {
          "output_type": "stream",
          "name": "stdout",
          "text": [
            "135607005592640\n",
            "False\n"
          ]
        }
      ]
    },
    {
      "cell_type": "code",
      "source": [
        "l.append(10)\n",
        "l\n",
        "print(id(l))\n",
        "print(bool(l))"
      ],
      "metadata": {
        "colab": {
          "base_uri": "https://localhost:8080/"
        },
        "id": "HFi2WC2tippd",
        "outputId": "a8290bfc-4882-430d-dc75-3294a0090633"
      },
      "execution_count": null,
      "outputs": [
        {
          "output_type": "stream",
          "name": "stdout",
          "text": [
            "135607005592640\n",
            "True\n"
          ]
        }
      ]
    },
    {
      "cell_type": "code",
      "source": [
        "# Python은 지극히 인간의 입장에서 출력을 고려한 것입니다."
      ],
      "metadata": {
        "id": "GcssZP6BjTGc"
      },
      "execution_count": null,
      "outputs": []
    },
    {
      "cell_type": "code",
      "source": [
        "l = '' #immutable\n",
        "print(id(l))\n",
        "print(bool(l))"
      ],
      "metadata": {
        "id": "rVv9XqfJjddS"
      },
      "execution_count": null,
      "outputs": []
    },
    {
      "cell_type": "code",
      "source": [
        "l = 'a'\n",
        "print(id(l))\n",
        "print(bool(l))"
      ],
      "metadata": {
        "id": "UK1lZw9-jfIx"
      },
      "execution_count": null,
      "outputs": []
    },
    {
      "cell_type": "markdown",
      "source": [
        "#7번"
      ],
      "metadata": {
        "id": "IHIdonsLj_-4"
      }
    },
    {
      "cell_type": "code",
      "source": [
        "# 언더바 변수에 대하여\n",
        "# 반복문 등에서 사용하지 않는 변수에 _를 넣습니다.\n",
        "for _ in range(5):\n",
        "    print('hello')\n",
        "\n",
        "# 프라이빗한 변수에서 _를 사용합니다.\n",
        "class Human():\n",
        "    _age = 0"
      ],
      "metadata": {
        "id": "L4EmTFAoj-gP"
      },
      "execution_count": null,
      "outputs": []
    },
    {
      "cell_type": "markdown",
      "source": [
        "# 8번"
      ],
      "metadata": {
        "id": "sVPTYYzTk4XV"
      }
    },
    {
      "cell_type": "code",
      "source": [
        "d = {'height':180,\n",
        "     'weight':78,\n",
        "     'weight':84,\n",
        "     'temparture':36,\n",
        "     'eyesight':1}\n",
        "print(d['weight'])"
      ],
      "metadata": {
        "colab": {
          "base_uri": "https://localhost:8080/"
        },
        "id": "W5tSbWn2kj3f",
        "outputId": "3c6b47cb-6ecd-4f5a-b537-19548ecfa21a"
      },
      "execution_count": null,
      "outputs": [
        {
          "output_type": "stream",
          "name": "stdout",
          "text": [
            "84\n"
          ]
        }
      ]
    },
    {
      "cell_type": "markdown",
      "source": [
        "# 9번"
      ],
      "metadata": {
        "id": "jxwS_ff6ltBT"
      }
    },
    {
      "cell_type": "code",
      "source": [
        "year = '2019'\n",
        "month = '04'\n",
        "day = '26'\n",
        "hour = '11'\n",
        "minute = '34'\n",
        "second = '27'\n",
        "\n",
        "print(year, month, day, sep='/', end=' ')\n",
        "print(hour, minute, second, sep=':')"
      ],
      "metadata": {
        "colab": {
          "base_uri": "https://localhost:8080/"
        },
        "id": "asAweoYDlHZo",
        "outputId": "e2aca350-27d6-4d42-bc0f-5c9c4ccdcfc4"
      },
      "execution_count": null,
      "outputs": [
        {
          "output_type": "stream",
          "name": "stdout",
          "text": [
            "2019/04/26 11:34:27\n"
          ]
        }
      ]
    },
    {
      "cell_type": "markdown",
      "source": [
        "# 10번"
      ],
      "metadata": {
        "id": "9x6xuhE8l9j4"
      }
    },
    {
      "cell_type": "code",
      "source": [
        "#     *\n",
        "#    ***\n",
        "#   *****\n",
        "#  *******\n",
        "# *********"
      ],
      "metadata": {
        "id": "yjSo4YJQl-tj"
      },
      "execution_count": null,
      "outputs": []
    },
    {
      "cell_type": "code",
      "source": [
        "n = 5\n",
        "for i in range(1, n+1):\n",
        "    print(i)"
      ],
      "metadata": {
        "colab": {
          "base_uri": "https://localhost:8080/"
        },
        "id": "fyqmdEjhmI__",
        "outputId": "cb69e701-9879-4c77-ae7b-6328f848a4b9"
      },
      "execution_count": null,
      "outputs": [
        {
          "output_type": "stream",
          "name": "stdout",
          "text": [
            "1\n",
            "2\n",
            "3\n",
            "4\n",
            "5\n"
          ]
        }
      ]
    },
    {
      "cell_type": "code",
      "source": [
        "n = 5\n",
        "for i in range(1, n + 1):\n",
        "    print(((n - i) * ' ') + '*')"
      ],
      "metadata": {
        "colab": {
          "base_uri": "https://localhost:8080/"
        },
        "id": "B23R8NpTmV9T",
        "outputId": "87f7a20a-7785-4766-c529-99906a765171"
      },
      "execution_count": null,
      "outputs": [
        {
          "output_type": "stream",
          "name": "stdout",
          "text": [
            "    *\n",
            "   *\n",
            "  *\n",
            " *\n",
            "*\n"
          ]
        }
      ]
    },
    {
      "cell_type": "code",
      "source": [
        "n = 5\n",
        "for i in range(1, n + 1):\n",
        "    print(((n - i) * ' ') + (((2 * i) - 1)) * '*')"
      ],
      "metadata": {
        "colab": {
          "base_uri": "https://localhost:8080/"
        },
        "id": "AFgB0F0NnmFH",
        "outputId": "bfdb6277-1cd3-4d6e-971f-d3f01e2b2ca3"
      },
      "execution_count": null,
      "outputs": [
        {
          "output_type": "stream",
          "name": "stdout",
          "text": [
            "    *\n",
            "   ***\n",
            "  *****\n",
            " *******\n",
            "*********\n"
          ]
        }
      ]
    },
    {
      "cell_type": "markdown",
      "source": [
        "# 11번"
      ],
      "metadata": {
        "id": "NpysPE7SoHAK"
      }
    },
    {
      "cell_type": "code",
      "source": [
        "s = 0\n",
        "for i in range(1, 101):\n",
        "    s += i\n",
        "print(s)"
      ],
      "metadata": {
        "colab": {
          "base_uri": "https://localhost:8080/"
        },
        "id": "bZPs_ZsDn-zl",
        "outputId": "b1dd7db6-1fae-47b4-c6b4-574dfb5106e5"
      },
      "execution_count": null,
      "outputs": [
        {
          "output_type": "stream",
          "name": "stdout",
          "text": [
            "5050\n"
          ]
        }
      ]
    },
    {
      "cell_type": "markdown",
      "source": [
        "# 12번"
      ],
      "metadata": {
        "id": "WnXhtKqmreeQ"
      }
    },
    {
      "cell_type": "code",
      "source": [
        "class Wizard:\n",
        "    def __init__(self, health, mana, armor):\n",
        "        '''\n",
        "        self는 인스턴스, 인스턴스 메모리 영역\n",
        "        '''\n",
        "        self.health = health\n",
        "        self.mana = mana\n",
        "        self.armor = armor\n",
        "\n",
        "    def attack(self):\n",
        "        print('파이어볼')\n",
        "\n",
        "\n",
        "jik = Wizard(health = 545, mana = 210, armor = 10)\n",
        "print(jik.health, jik.mana, jik.armor)\n",
        "jik.attack()"
      ],
      "metadata": {
        "colab": {
          "base_uri": "https://localhost:8080/"
        },
        "id": "BRI8IOyAoSK_",
        "outputId": "8788eba8-5bd1-4567-ed65-a95eb4796ae6"
      },
      "execution_count": null,
      "outputs": [
        {
          "output_type": "stream",
          "name": "stdout",
          "text": [
            "545 210 10\n",
            "파이어볼\n"
          ]
        }
      ]
    },
    {
      "cell_type": "markdown",
      "source": [
        "# 14번\n",
        "문제가 너무 쉬워 아래 문제로 풀도록 하겠습니다."
      ],
      "metadata": {
        "id": "qqT_oVWCtXnN"
      }
    },
    {
      "cell_type": "markdown",
      "source": [
        "* 링크 : https://school.programmers.co.kr/learn/courses/30/lessons/120871?language=javascript"
      ],
      "metadata": {
        "id": "Ta2cSkait3HZ"
      }
    },
    {
      "cell_type": "code",
      "source": [
        "# 이러한 조건 문제에서 문제가 쉽게 풀리지 않을 경우\n",
        "# 소거법을 사용하시는 방법으로 푸시면 좀 더 쉽게 풀 수도 있습니다.\n",
        "\n",
        "[i for i in range(100) if i % 3 != 0] # 3의 배수 제거!\n",
        "[i for i in range(100) if '3' not in str(i)] # 3이 들어가 있는 숫자 제거!\n",
        "\n",
        "[i for i in range(100) if i % 3 != 0 and '3' not in str(i)][9-1]\n",
        "[i for i in range(100) if i % 3 != 0 and '3' not in str(i)][10-1]\n",
        "\n",
        "solution = lambda n:[i for i in range(10000) if i % 3 != 0 and '3' not in str(i)][n-1]\n",
        "solution(9)"
      ],
      "metadata": {
        "colab": {
          "base_uri": "https://localhost:8080/"
        },
        "id": "ImkohBs5t4eK",
        "outputId": "a3d2be2b-6474-46a6-b83c-7f5b4e5d2aff"
      },
      "execution_count": null,
      "outputs": [
        {
          "output_type": "execute_result",
          "data": {
            "text/plain": [
              "14"
            ]
          },
          "metadata": {},
          "execution_count": 38
        }
      ]
    },
    {
      "cell_type": "markdown",
      "source": [
        "# 16번"
      ],
      "metadata": {
        "id": "3viTVK8PwH1h"
      }
    },
    {
      "cell_type": "code",
      "source": [
        "'안녕하세요'[::-1]"
      ],
      "metadata": {
        "colab": {
          "base_uri": "https://localhost:8080/",
          "height": 35
        },
        "id": "f-Uhk2DbwJP-",
        "outputId": "5af01380-4a39-4956-8862-fd25073850a0"
      },
      "execution_count": null,
      "outputs": [
        {
          "output_type": "execute_result",
          "data": {
            "text/plain": [
              "'요세하녕안'"
            ],
            "application/vnd.google.colaboratory.intrinsic+json": {
              "type": "string"
            }
          },
          "metadata": {},
          "execution_count": 39
        }
      ]
    },
    {
      "cell_type": "code",
      "source": [
        "''.join(list(reversed(list('안녕하세요'))))"
      ],
      "metadata": {
        "colab": {
          "base_uri": "https://localhost:8080/",
          "height": 35
        },
        "id": "1cOIhK7PwNus",
        "outputId": "9e0acfe4-e56c-47f6-9108-8085fc949bec"
      },
      "execution_count": null,
      "outputs": [
        {
          "output_type": "execute_result",
          "data": {
            "text/plain": [
              "'요세하녕안'"
            ],
            "application/vnd.google.colaboratory.intrinsic+json": {
              "type": "string"
            }
          },
          "metadata": {},
          "execution_count": 52
        }
      ]
    },
    {
      "cell_type": "code",
      "source": [
        "s = '안녕하세요'\n",
        "ss = list(s)\n",
        "ss.reverse()\n",
        "''.join(ss)"
      ],
      "metadata": {
        "colab": {
          "base_uri": "https://localhost:8080/",
          "height": 35
        },
        "id": "i3SAhaoownxG",
        "outputId": "8d0429cf-3f52-4c3f-b944-a0207b1ebb1e"
      },
      "execution_count": null,
      "outputs": [
        {
          "output_type": "execute_result",
          "data": {
            "text/plain": [
              "'요세하녕안'"
            ],
            "application/vnd.google.colaboratory.intrinsic+json": {
              "type": "string"
            }
          },
          "metadata": {},
          "execution_count": 53
        }
      ]
    },
    {
      "cell_type": "code",
      "source": [
        "s = '안녕하세요'\n",
        "result = ''\n",
        "for i in s:\n",
        "    result = i + result\n",
        "result"
      ],
      "metadata": {
        "colab": {
          "base_uri": "https://localhost:8080/",
          "height": 35
        },
        "id": "JhrGdy2cw02g",
        "outputId": "ead93165-f427-428b-bdaa-aa494a00088f"
      },
      "execution_count": null,
      "outputs": [
        {
          "output_type": "execute_result",
          "data": {
            "text/plain": [
              "'요세하녕안'"
            ],
            "application/vnd.google.colaboratory.intrinsic+json": {
              "type": "string"
            }
          },
          "metadata": {},
          "execution_count": 54
        }
      ]
    },
    {
      "cell_type": "code",
      "source": [
        "def reverse(s):\n",
        "    if len(s) == 1:\n",
        "        return s\n",
        "    else:\n",
        "        return reverse(s[1:]) + s[0]\n",
        "\n",
        "reverse('안녕하세요')"
      ],
      "metadata": {
        "colab": {
          "base_uri": "https://localhost:8080/",
          "height": 35
        },
        "id": "XnQU6CQbw92v",
        "outputId": "971c773f-6472-4f2c-9824-2d4bdc29efad"
      },
      "execution_count": null,
      "outputs": [
        {
          "output_type": "execute_result",
          "data": {
            "text/plain": [
              "'요세하녕안'"
            ],
            "application/vnd.google.colaboratory.intrinsic+json": {
              "type": "string"
            }
          },
          "metadata": {},
          "execution_count": 55
        }
      ]
    },
    {
      "cell_type": "markdown",
      "source": [
        "# 17번"
      ],
      "metadata": {
        "id": "Pt8zZvzfxmTC"
      }
    },
    {
      "cell_type": "code",
      "source": [
        "height = 150\n",
        "\n",
        "if height >= 150: print('YES')"
      ],
      "metadata": {
        "colab": {
          "base_uri": "https://localhost:8080/"
        },
        "id": "7vEjUdwTxnm6",
        "outputId": "71adf015-c54d-4807-b244-caf58f8efe2d"
      },
      "execution_count": null,
      "outputs": [
        {
          "output_type": "stream",
          "name": "stdout",
          "text": [
            "YES\n"
          ]
        }
      ]
    },
    {
      "cell_type": "code",
      "source": [
        "height = 149\n",
        "\n",
        "# print('NO') if height >= 150: print('YES') # Error\n",
        "print('YES') if height >= 150 else print('NO')"
      ],
      "metadata": {
        "colab": {
          "base_uri": "https://localhost:8080/"
        },
        "id": "pUqz-gsDxxu6",
        "outputId": "aabdd35d-5ff5-4a65-8238-b1965fa9ef3d"
      },
      "execution_count": null,
      "outputs": [
        {
          "output_type": "stream",
          "name": "stdout",
          "text": [
            "NO\n"
          ]
        }
      ]
    },
    {
      "cell_type": "code",
      "source": [
        "def solution(height):\n",
        "    return 'YES' if height >= 150 else 'NO'\n",
        "\n",
        "solution(150)"
      ],
      "metadata": {
        "colab": {
          "base_uri": "https://localhost:8080/",
          "height": 35
        },
        "id": "AD5HIp6pyVwY",
        "outputId": "eac21c96-8a2e-4e09-f29c-2d4ddf65bae1"
      },
      "execution_count": null,
      "outputs": [
        {
          "output_type": "execute_result",
          "data": {
            "text/plain": [
              "'YES'"
            ],
            "application/vnd.google.colaboratory.intrinsic+json": {
              "type": "string"
            }
          },
          "metadata": {},
          "execution_count": 62
        }
      ]
    },
    {
      "cell_type": "markdown",
      "source": [
        "# 18번"
      ],
      "metadata": {
        "id": "-qnX2PBuy_Qz"
      }
    },
    {
      "cell_type": "code",
      "source": [
        "list(map(int, '20 30 40'.split(' ')))"
      ],
      "metadata": {
        "colab": {
          "base_uri": "https://localhost:8080/"
        },
        "id": "j4xrer8ezArl",
        "outputId": "0614cd56-836f-422d-c2c1-3f21b16d605d"
      },
      "execution_count": null,
      "outputs": [
        {
          "output_type": "execute_result",
          "data": {
            "text/plain": [
              "[20, 30, 40]"
            ]
          },
          "metadata": {},
          "execution_count": 66
        }
      ]
    },
    {
      "cell_type": "code",
      "source": [
        "sum(map(int, '20 30 40'.split(' '))) / 3"
      ],
      "metadata": {
        "colab": {
          "base_uri": "https://localhost:8080/"
        },
        "id": "9gA0a3R6zTiB",
        "outputId": "6d15b003-8c19-4625-fbc2-5413a56d270d"
      },
      "execution_count": null,
      "outputs": [
        {
          "output_type": "execute_result",
          "data": {
            "text/plain": [
              "30.0"
            ]
          },
          "metadata": {},
          "execution_count": 68
        }
      ]
    },
    {
      "cell_type": "markdown",
      "source": [
        "# 21번"
      ],
      "metadata": {
        "id": "kOLnoGLQz4WU"
      }
    },
    {
      "cell_type": "code",
      "source": [
        "# 1)  x = {1, 2, 3, 5, 6, 7}\n",
        "# 2)  x = {} # dict\n",
        "# 3)  x = set('python')\n",
        "# 4)  x = set(range(5))\n",
        "# 5)  x = set()"
      ],
      "metadata": {
        "id": "cJ8UADJ2z5wx"
      },
      "execution_count": null,
      "outputs": []
    },
    {
      "cell_type": "code",
      "source": [
        "t = 1\n",
        "t = (1) # tuple 아님!\n",
        "t = (1,)\n",
        "t\n",
        "\n",
        "# 어떤 라이브러리나 프레임웤 마지막 콤마가 꼭 있는 이유(3 ~ 4개 있습니다.)\n",
        "# 버전관리하는 곳에서 콤마를 버전의 업이라고 인식하는 경우가 있습니다.\n",
        "# Ctrl + C, V\n",
        "# 튜플인경우 상수, 문자가 들어갔을 때 튜플이 아닌 int, str로 변환되는 것을 막기 위해\n",
        "옵션 = (\n",
        "    'a',\n",
        ")"
      ],
      "metadata": {
        "colab": {
          "base_uri": "https://localhost:8080/"
        },
        "id": "MQhsi4Xpz92U",
        "outputId": "1189a1f3-28ae-4d2a-d6ca-7adb2bbf291b"
      },
      "execution_count": null,
      "outputs": [
        {
          "output_type": "execute_result",
          "data": {
            "text/plain": [
              "(1,)"
            ]
          },
          "metadata": {},
          "execution_count": 74
        }
      ]
    },
    {
      "cell_type": "markdown",
      "source": [
        "# 24번"
      ],
      "metadata": {
        "id": "vkN36fWD1AYr"
      }
    },
    {
      "cell_type": "code",
      "source": [
        "'mary'.upper()"
      ],
      "metadata": {
        "colab": {
          "base_uri": "https://localhost:8080/",
          "height": 35
        },
        "id": "gBQlmkZy0hRB",
        "outputId": "42bf8b48-1c46-433f-c246-a31823d658ad"
      },
      "execution_count": null,
      "outputs": [
        {
          "output_type": "execute_result",
          "data": {
            "text/plain": [
              "'MARY'"
            ],
            "application/vnd.google.colaboratory.intrinsic+json": {
              "type": "string"
            }
          },
          "metadata": {},
          "execution_count": 77
        }
      ]
    },
    {
      "cell_type": "code",
      "source": [
        "ord('a')"
      ],
      "metadata": {
        "colab": {
          "base_uri": "https://localhost:8080/"
        },
        "id": "ZHiqnW9i1MRj",
        "outputId": "295a882d-e01b-4836-f445-b81c94cf8a1e"
      },
      "execution_count": null,
      "outputs": [
        {
          "output_type": "execute_result",
          "data": {
            "text/plain": [
              "97"
            ]
          },
          "metadata": {},
          "execution_count": 78
        }
      ]
    },
    {
      "cell_type": "code",
      "source": [
        "ord('A')"
      ],
      "metadata": {
        "colab": {
          "base_uri": "https://localhost:8080/"
        },
        "id": "rrBG5tQA1QDS",
        "outputId": "1a2c79ff-899c-4c84-f553-c42d8c1d5281"
      },
      "execution_count": null,
      "outputs": [
        {
          "output_type": "execute_result",
          "data": {
            "text/plain": [
              "65"
            ]
          },
          "metadata": {},
          "execution_count": 79
        }
      ]
    },
    {
      "cell_type": "code",
      "source": [
        "ord('a') - ord('A')"
      ],
      "metadata": {
        "colab": {
          "base_uri": "https://localhost:8080/"
        },
        "id": "wf2Quxzp1RrA",
        "outputId": "be327b84-a10f-4201-eb4d-2e5d7ba9c49a"
      },
      "execution_count": null,
      "outputs": [
        {
          "output_type": "execute_result",
          "data": {
            "text/plain": [
              "32"
            ]
          },
          "metadata": {},
          "execution_count": 80
        }
      ]
    },
    {
      "cell_type": "code",
      "source": [
        "ord('a') - 32"
      ],
      "metadata": {
        "colab": {
          "base_uri": "https://localhost:8080/"
        },
        "id": "lQWa3h0E1VVR",
        "outputId": "1bf557d2-7994-41e9-dbe8-d5297199a1aa"
      },
      "execution_count": null,
      "outputs": [
        {
          "output_type": "execute_result",
          "data": {
            "text/plain": [
              "65"
            ]
          },
          "metadata": {},
          "execution_count": 82
        }
      ]
    },
    {
      "cell_type": "code",
      "source": [
        "chr(ord('a') - 32)"
      ],
      "metadata": {
        "colab": {
          "base_uri": "https://localhost:8080/",
          "height": 35
        },
        "id": "JDMSBC_v1hX5",
        "outputId": "bd196043-5c41-4b26-f3c5-75f77fad2aaf"
      },
      "execution_count": null,
      "outputs": [
        {
          "output_type": "execute_result",
          "data": {
            "text/plain": [
              "'A'"
            ],
            "application/vnd.google.colaboratory.intrinsic+json": {
              "type": "string"
            }
          },
          "metadata": {},
          "execution_count": 83
        }
      ]
    },
    {
      "cell_type": "code",
      "source": [
        "for i in 'mary':\n",
        "    print(chr(ord(i) - 32), end='') # 완벽한 코드는 아니고, 소문자인 것을 판단하는 if가 위에 있어야 합니다."
      ],
      "metadata": {
        "colab": {
          "base_uri": "https://localhost:8080/"
        },
        "id": "mVoZmR5Y1k0W",
        "outputId": "8a695584-26ec-4eed-d54a-f17d987c5680"
      },
      "execution_count": null,
      "outputs": [
        {
          "output_type": "stream",
          "name": "stdout",
          "text": [
            "MARY"
          ]
        }
      ]
    },
    {
      "cell_type": "code",
      "source": [
        "# 도대체 이런 지식은 어디에 쓸모가 있을까요? 인코딩쪽에서 어떤 인코딩인지 확인하는 용도로 사용하기도 합니다.\n",
        "# 알고리즘은 얼마나 쓸모가 있나요? 코드를 읽는 속도와 이해하는 속도에 도움을 줍니다.\n",
        "# => 코드는 AI가 더 잘짭니다.ㅎㅎ 잘 짠것을 확인해주는 작업은 내가 해야 합니다."
      ],
      "metadata": {
        "id": "WOnBm80Y12qA"
      },
      "execution_count": null,
      "outputs": []
    },
    {
      "cell_type": "markdown",
      "source": [
        "# 26번 문제"
      ],
      "metadata": {
        "id": "uwZceaFU5xNi"
      }
    },
    {
      "cell_type": "code",
      "source": [
        "key = '수성, 금성, 지구, 화성, 목성, 토성, 천왕성, 해왕성'.split(', ')\n",
        "value = 'Mercury, Venus, Earth, Mars, Jupiter, Saturn, Uranus, Neptune'.split(', ')"
      ],
      "metadata": {
        "id": "lPM_7fUK5OXm"
      },
      "execution_count": null,
      "outputs": []
    },
    {
      "cell_type": "code",
      "source": [
        "dict(zip(key, value))"
      ],
      "metadata": {
        "colab": {
          "base_uri": "https://localhost:8080/"
        },
        "id": "PrVnxRe05ffQ",
        "outputId": "75e209d6-3591-45c8-a55f-554665698fee"
      },
      "execution_count": null,
      "outputs": [
        {
          "output_type": "execute_result",
          "data": {
            "text/plain": [
              "{'수성': 'Mercury',\n",
              " '금성': 'Venus',\n",
              " '지구': 'Earth',\n",
              " '화성': 'Mars',\n",
              " '목성': 'Jupiter',\n",
              " '토성': 'Saturn',\n",
              " '천왕성': 'Uranus',\n",
              " '해왕성': 'Neptune'}"
            ]
          },
          "metadata": {},
          "execution_count": 91
        }
      ]
    },
    {
      "cell_type": "markdown",
      "source": [
        "# 28번"
      ],
      "metadata": {
        "id": "xnLUSn6g6FZ5"
      }
    },
    {
      "cell_type": "code",
      "source": [
        "s = 'python'\n",
        "for i in range(len(s)-1): # 아래 zip에서는 -1을 고려하지 않아도 됩니다.\n",
        "    print(s[i:i+2])"
      ],
      "metadata": {
        "colab": {
          "base_uri": "https://localhost:8080/"
        },
        "id": "ubve8QR15vyD",
        "outputId": "a4bcb06d-53cc-4437-89e8-f4744bb5c925"
      },
      "execution_count": null,
      "outputs": [
        {
          "output_type": "stream",
          "name": "stdout",
          "text": [
            "py\n",
            "yt\n",
            "th\n",
            "ho\n",
            "on\n"
          ]
        }
      ]
    },
    {
      "cell_type": "code",
      "source": [
        "s = 'python'\n",
        "list(zip(s, s[1:])) # 짝이 안맞으면 어차피 생성하지 않습니다."
      ],
      "metadata": {
        "colab": {
          "base_uri": "https://localhost:8080/"
        },
        "id": "jC-dH45u6h5D",
        "outputId": "53587dd6-f44f-45a9-977e-7e0ca07f532c"
      },
      "execution_count": null,
      "outputs": [
        {
          "output_type": "execute_result",
          "data": {
            "text/plain": [
              "[('p', 'y'), ('y', 't'), ('t', 'h'), ('h', 'o'), ('o', 'n')]"
            ]
          },
          "metadata": {},
          "execution_count": 95
        }
      ]
    },
    {
      "cell_type": "code",
      "source": [
        "s = 'python'\n",
        "for i in zip(s, s[1:]):\n",
        "    print(''.join(i))"
      ],
      "metadata": {
        "colab": {
          "base_uri": "https://localhost:8080/"
        },
        "id": "2Gt5BKgd61GT",
        "outputId": "d85fed45-98d9-4071-ef2f-dc4a320403f0"
      },
      "execution_count": null,
      "outputs": [
        {
          "output_type": "stream",
          "name": "stdout",
          "text": [
            "py\n",
            "yt\n",
            "th\n",
            "ho\n",
            "on\n"
          ]
        }
      ]
    },
    {
      "cell_type": "code",
      "source": [
        "s = 'life is short, you need python'\n",
        "for i in range(len(s)-2): # zip에서는 -2을 고려하지 않아도 됩니다.\n",
        "    print(s[i:i+3])"
      ],
      "metadata": {
        "id": "ku0x8Qx469rD"
      },
      "execution_count": null,
      "outputs": []
    },
    {
      "cell_type": "code",
      "source": [
        "p = [1, 3, 5, 7, 11, 14, 19, 21, 22]\n",
        "list(zip(p, p[1:]))\n",
        "list(map(lambda x:x[1]-x[0], zip(p, p[1:])))"
      ],
      "metadata": {
        "colab": {
          "base_uri": "https://localhost:8080/"
        },
        "id": "3_G7Xj6y7SgP",
        "outputId": "fd105545-23a4-401e-d3c5-187930761fec"
      },
      "execution_count": null,
      "outputs": [
        {
          "output_type": "execute_result",
          "data": {
            "text/plain": [
              "[2, 2, 2, 4, 3, 5, 2, 1]"
            ]
          },
          "metadata": {},
          "execution_count": 103
        }
      ]
    },
    {
      "cell_type": "markdown",
      "source": [
        "# 29번\n",
        "* 문제 변경: 대문자만 지나가도록 코딩해주세요. 'HellO WoRld' -> HOR"
      ],
      "metadata": {
        "id": "slwb3_HJ7-jr"
      }
    },
    {
      "cell_type": "code",
      "source": [
        "for s in 'HellO WoRld':\n",
        "    if s != s.lower():\n",
        "        print(s)"
      ],
      "metadata": {
        "colab": {
          "base_uri": "https://localhost:8080/"
        },
        "id": "9-v4e_Bm8Gzn",
        "outputId": "aad7b0b7-f736-47eb-9ada-6ff7f03bc563"
      },
      "execution_count": null,
      "outputs": [
        {
          "output_type": "stream",
          "name": "stdout",
          "text": [
            "H\n",
            "O\n",
            "W\n",
            "R\n"
          ]
        }
      ]
    },
    {
      "cell_type": "code",
      "source": [
        "for s in 'HellO WoRld':\n",
        "    if 'A' <= s <= 'Z':\n",
        "        print(s)"
      ],
      "metadata": {
        "colab": {
          "base_uri": "https://localhost:8080/"
        },
        "id": "G2kMdVIt8ThK",
        "outputId": "fb398091-0c6a-456c-a1ff-66cbf5d189af"
      },
      "execution_count": null,
      "outputs": [
        {
          "output_type": "stream",
          "name": "stdout",
          "text": [
            "H\n",
            "O\n",
            "W\n",
            "R\n"
          ]
        }
      ]
    },
    {
      "cell_type": "code",
      "source": [
        "for s in 'HellO WoRld':\n",
        "    if s.isupper(): # 서영님께서 말씀해주신 코드가 가장 좋은 코드라고 생각합니다.\n",
        "        print(s)"
      ],
      "metadata": {
        "colab": {
          "base_uri": "https://localhost:8080/"
        },
        "id": "QSRh5SGA8bY1",
        "outputId": "0f640c46-2cd9-414c-eac5-76b3461c78dd"
      },
      "execution_count": null,
      "outputs": [
        {
          "output_type": "stream",
          "name": "stdout",
          "text": [
            "H\n",
            "O\n",
            "W\n",
            "R\n"
          ]
        }
      ]
    },
    {
      "cell_type": "markdown",
      "source": [
        "# 30번"
      ],
      "metadata": {
        "id": "0JyBaQgy87Uz"
      }
    },
    {
      "cell_type": "code",
      "source": [
        "'pineapple is yummy apple'.find('apple') # 없는 것을 찾을 때 -1\n",
        "'pineapple is yummy apple'.index('xpple') # 없는 것을 찾을 때 error <- error가 나면 서비스 멈춥니다!\n",
        "# 예를 들어 주기적으로 크롤링하는 코드가 있다면\n",
        "# find를 쓰셔서 error가 안나고 다음 코드로 넘어가게 코딩하실 수 있습니다.\n",
        "# 예외처리를 하는 것이 가장 좋습니다.\n",
        "# 정답: 목적에 맞게 사용하셔야 합니다."
      ],
      "metadata": {
        "id": "imZaMCuW86Vk"
      },
      "execution_count": null,
      "outputs": []
    },
    {
      "cell_type": "code",
      "source": [
        "'pineapple is yummy apple'.rfind('apple')\n",
        "'pineapple is yummy apple'.rindex('apple')"
      ],
      "metadata": {
        "colab": {
          "base_uri": "https://localhost:8080/"
        },
        "id": "QK1smtOt-RgJ",
        "outputId": "ceae0018-4e68-47c3-cfb5-5a9e137b51e9"
      },
      "execution_count": null,
      "outputs": [
        {
          "output_type": "execute_result",
          "data": {
            "text/plain": [
              "19"
            ]
          },
          "metadata": {},
          "execution_count": 112
        }
      ]
    },
    {
      "cell_type": "code",
      "source": [
        "'pineapple is yummy apple'.find('apple', 10)\n",
        "'pineapple is yummy apple'.index('apple', 10)"
      ],
      "metadata": {
        "colab": {
          "base_uri": "https://localhost:8080/"
        },
        "id": "y5tfwUMk-ZlZ",
        "outputId": "b10c7b84-af71-4bf6-ba2f-a4492701b5fc"
      },
      "execution_count": null,
      "outputs": [
        {
          "output_type": "execute_result",
          "data": {
            "text/plain": [
              "19"
            ]
          },
          "metadata": {},
          "execution_count": 114
        }
      ]
    },
    {
      "cell_type": "markdown",
      "source": [
        "# 31번\n"
      ],
      "metadata": {
        "id": "UA6V3Rog_Mga"
      }
    },
    {
      "cell_type": "code",
      "source": [
        "# https://wayhome25.github.io/python/2017/06/14/time-complexity/\n",
        "# 1)  l[i]\n",
        "# 2)  l.append(5)\n",
        "# 3)  l[a:b] # 정답\n",
        "# 4)  l.pop()\n",
        "# 5)  l.clear()"
      ],
      "metadata": {
        "id": "d1kCIHJ--pAc"
      },
      "execution_count": null,
      "outputs": []
    },
    {
      "cell_type": "code",
      "source": [
        "# 그럼에도 불구하고 슬라이싱을 사용해야 할 경우\n",
        "# error를 발생시키지 않기 때문에\n",
        "\n",
        "l = [1, 2, 3, 4, 5]\n",
        "\n",
        "# l[10]  # out of range error!\n",
        "l[10:11] # out of range error가 안남! 그런데 기능은 같음!"
      ],
      "metadata": {
        "colab": {
          "base_uri": "https://localhost:8080/"
        },
        "id": "5Hkxv3SF_Tan",
        "outputId": "220a5759-9735-4713-f9e4-e44c5ce20d77"
      },
      "execution_count": null,
      "outputs": [
        {
          "output_type": "execute_result",
          "data": {
            "text/plain": [
              "[]"
            ]
          },
          "metadata": {},
          "execution_count": 118
        }
      ]
    },
    {
      "cell_type": "markdown",
      "source": [
        "# 35번"
      ],
      "metadata": {
        "id": "GU6mJZV-AUiK"
      }
    },
    {
      "cell_type": "code",
      "source": [
        "# 매우매우 중요한 내용\n",
        "\n",
        "def one(n):\n",
        "    def two(value):\n",
        "        return value ** n\n",
        "    return two\n",
        "\n",
        "a = one(2)\n",
        "b = one(3)\n",
        "c = one(4)\n",
        "print(a(10))\n",
        "print(b(10))\n",
        "print(c(10))"
      ],
      "metadata": {
        "colab": {
          "base_uri": "https://localhost:8080/"
        },
        "id": "_Hupk7oXAWGG",
        "outputId": "8d23447e-7ff5-40df-f036-2272e8c33591"
      },
      "execution_count": null,
      "outputs": [
        {
          "output_type": "stream",
          "name": "stdout",
          "text": [
            "100\n",
            "1000\n",
            "10000\n"
          ]
        }
      ]
    },
    {
      "cell_type": "code",
      "source": [
        "# 객체지향 프로그래밍 예제\n",
        "class Book:\n",
        "    def __init__(self, title, content, author, pub_date):\n",
        "        self.title = title\n",
        "        self.content = content\n",
        "        self.author = author\n",
        "        self.pub_date = pub_date\n",
        "\n",
        "    def calculate_date(self):\n",
        "         self.pub_date - self.current_date"
      ],
      "metadata": {
        "id": "W33t-W80ByfI"
      },
      "execution_count": null,
      "outputs": []
    },
    {
      "cell_type": "code",
      "source": [
        "# 1. 함수를 변수에 할당할 수 있습니다.\n",
        "# 2. 함수를 데이터 구조에 저장할 수 있습니다.\n",
        "# 3. 함수를 인자로 다른 함수에 전달할 수 있습니다.\n",
        "# 4. 함수를 결과로서 반환할 수 있습니다."
      ],
      "metadata": {
        "id": "HkCE3E7fDn5f"
      },
      "execution_count": null,
      "outputs": []
    },
    {
      "cell_type": "code",
      "source": [
        "def add(x, y):\n",
        "    return x + y\n",
        "\n",
        "x = add\n",
        "x(10, 20)"
      ],
      "metadata": {
        "colab": {
          "base_uri": "https://localhost:8080/"
        },
        "id": "k_zBTbNZycDT",
        "outputId": "5b7bdf73-feee-4bf7-b43e-38db3fc2da72"
      },
      "execution_count": null,
      "outputs": [
        {
          "output_type": "execute_result",
          "data": {
            "text/plain": [
              "30"
            ]
          },
          "metadata": {},
          "execution_count": 1
        }
      ]
    },
    {
      "cell_type": "code",
      "source": [
        "id(x), id(add)"
      ],
      "metadata": {
        "colab": {
          "base_uri": "https://localhost:8080/"
        },
        "id": "O4dK0uAcysIc",
        "outputId": "e1d56fa7-aad4-48f6-cd5b-d14033a1b3ef"
      },
      "execution_count": null,
      "outputs": [
        {
          "output_type": "execute_result",
          "data": {
            "text/plain": [
              "(137346919024960, 137346919024960)"
            ]
          },
          "metadata": {},
          "execution_count": 3
        }
      ]
    },
    {
      "cell_type": "code",
      "source": [
        "test = [x, add]\n",
        "\n",
        "test[0](10, 20)"
      ],
      "metadata": {
        "colab": {
          "base_uri": "https://localhost:8080/"
        },
        "id": "A_8EhU-Dy039",
        "outputId": "e597de14-37e3-4036-d7e1-4dd21bca78f8"
      },
      "execution_count": null,
      "outputs": [
        {
          "output_type": "execute_result",
          "data": {
            "text/plain": [
              "30"
            ]
          },
          "metadata": {},
          "execution_count": 4
        }
      ]
    },
    {
      "cell_type": "code",
      "source": [
        "# book크롤링데이터 = [인스턴스1, 인스턴스2, 인스턴스3...]\n",
        "# json으로 변환, csv로 변환한다던지.."
      ],
      "metadata": {
        "id": "ilYUrYy3y_gU"
      },
      "execution_count": null,
      "outputs": []
    },
    {
      "cell_type": "code",
      "source": [
        "def add():\n",
        "    return lambda x:x**2\n",
        "\n",
        "x = add()\n",
        "x(10)"
      ],
      "metadata": {
        "colab": {
          "base_uri": "https://localhost:8080/"
        },
        "id": "_k3-GQ-9zLZC",
        "outputId": "95679048-cc04-48f0-da17-961b47a50a16"
      },
      "execution_count": null,
      "outputs": [
        {
          "output_type": "execute_result",
          "data": {
            "text/plain": [
              "100"
            ]
          },
          "metadata": {},
          "execution_count": 5
        }
      ]
    },
    {
      "cell_type": "code",
      "source": [
        "def add():\n",
        "    return lambda x:x**2\n",
        "\n",
        "add()(10)"
      ],
      "metadata": {
        "colab": {
          "base_uri": "https://localhost:8080/"
        },
        "id": "hZkuSa2IzjSm",
        "outputId": "3ac76273-85d2-4ac5-9d7c-47276664c87c"
      },
      "execution_count": null,
      "outputs": [
        {
          "output_type": "execute_result",
          "data": {
            "text/plain": [
              "100"
            ]
          },
          "metadata": {},
          "execution_count": 6
        }
      ]
    },
    {
      "cell_type": "code",
      "source": [
        "def add(x, y):\n",
        "    def test(x):\n",
        "        return x * 2\n",
        "    test(x)\n",
        "    return 'hello'\n",
        "\n",
        "add(10, 20)"
      ],
      "metadata": {
        "colab": {
          "base_uri": "https://localhost:8080/",
          "height": 35
        },
        "id": "j1Rp9KqIzwA1",
        "outputId": "1f3e88d3-8a18-494a-b492-caa8c89a7062"
      },
      "execution_count": null,
      "outputs": [
        {
          "output_type": "execute_result",
          "data": {
            "text/plain": [
              "'hello'"
            ],
            "application/vnd.google.colaboratory.intrinsic+json": {
              "type": "string"
            }
          },
          "metadata": {},
          "execution_count": 7
        }
      ]
    },
    {
      "cell_type": "code",
      "source": [
        "def sub(x, y):\n",
        "    return x - y\n",
        "\n",
        "def add(x, y, f):\n",
        "    def test(x):\n",
        "        return x * 2\n",
        "    test(x)\n",
        "    return 'hello'\n",
        "\n",
        "add(10, 20, sub) # 콜백함수\n",
        "\n",
        "map(int, ['1', '2']) # int를 콜백함수라고도 부릅니다."
      ],
      "metadata": {
        "colab": {
          "base_uri": "https://localhost:8080/"
        },
        "id": "eZ_g7gZi0ULv",
        "outputId": "84ee85d6-efa2-4bbf-a24a-4e275d623d88"
      },
      "execution_count": null,
      "outputs": [
        {
          "output_type": "execute_result",
          "data": {
            "text/plain": [
              "<map at 0x7cea60ab8c40>"
            ]
          },
          "metadata": {},
          "execution_count": 8
        }
      ]
    },
    {
      "cell_type": "code",
      "source": [
        "def simple_decorator(function):\n",
        "    def wrapper():\n",
        "        print(\"Before the function call\")\n",
        "        function()\n",
        "        print(\"After the function call\")\n",
        "    return wrapper\n",
        "\n",
        "@simple_decorator\n",
        "def hello():\n",
        "    print(\"Hello, World!\")\n",
        "\n",
        "hello() # 데코레이터가 없는 상태에서는 simple_decorator(hello)() 와 같습니다."
      ],
      "metadata": {
        "id": "SO15pHoE1LNy"
      },
      "execution_count": null,
      "outputs": []
    },
    {
      "cell_type": "code",
      "source": [
        "def simple_decorator(function):\n",
        "    def wrapper(l):\n",
        "        print(\"Before the function call\")\n",
        "        print(function(map(int, l)))\n",
        "        print(\"After the function call\")\n",
        "    return wrapper\n",
        "\n",
        "@simple_decorator\n",
        "def 합(l):\n",
        "    return sum(l)\n",
        "\n",
        "합([1, 2, 3, '4'])"
      ],
      "metadata": {
        "colab": {
          "base_uri": "https://localhost:8080/"
        },
        "id": "kNvIHsOm2ANj",
        "outputId": "93ae3211-97cb-45b2-e885-3389d680d72b"
      },
      "execution_count": null,
      "outputs": [
        {
          "output_type": "stream",
          "name": "stdout",
          "text": [
            "Before the function call\n",
            "10\n",
            "After the function call\n"
          ]
        }
      ]
    },
    {
      "cell_type": "code",
      "source": [
        "def debug(function):\n",
        "    def new_function(*args):\n",
        "        print(f'{function.__name__} 함수 시작')\n",
        "        print(*args)\n",
        "        result = function(*args)\n",
        "        print(f'{function.__name__} 함수 끝')\n",
        "        # return result # return 값이 있는 데코레이터는 바로 뒤에서 진행합니다.\n",
        "\n",
        "    return new_function\n",
        "\n",
        "\n",
        "@debug\n",
        "def sum_1_to_n(n):\n",
        "    return n * (n + 1) / 2\n",
        "\n",
        "\n",
        "result = sum_1_to_n(30)\n",
        "\n",
        "print(result)"
      ],
      "metadata": {
        "colab": {
          "base_uri": "https://localhost:8080/"
        },
        "id": "r_EsS7HS2VBO",
        "outputId": "fabcc588-df2d-4876-8b1c-737b5b6a87b8"
      },
      "execution_count": null,
      "outputs": [
        {
          "output_type": "stream",
          "name": "stdout",
          "text": [
            "sum_1_to_n 함수 시작\n",
            "30\n",
            "sum_1_to_n 함수 끝\n",
            "None\n"
          ]
        }
      ]
    },
    {
      "cell_type": "code",
      "source": [
        "def test(*args):\n",
        "    for i in args:\n",
        "        print(i)\n",
        "\n",
        "test(1, 2, 3, 4, 5, 'hello world')"
      ],
      "metadata": {
        "colab": {
          "base_uri": "https://localhost:8080/"
        },
        "id": "6CEK9gug2pEv",
        "outputId": "74ab2b66-74a2-41c5-8c84-94ac34535605"
      },
      "execution_count": null,
      "outputs": [
        {
          "output_type": "stream",
          "name": "stdout",
          "text": [
            "1\n",
            "2\n",
            "3\n",
            "4\n",
            "5\n",
            "hello world\n"
          ]
        }
      ]
    },
    {
      "cell_type": "code",
      "source": [
        "def test(**kargs):\n",
        "    print(kargs)\n",
        "    for i in kargs:\n",
        "        print(i)\n",
        "\n",
        "test(one=1, two=2)"
      ],
      "metadata": {
        "colab": {
          "base_uri": "https://localhost:8080/"
        },
        "id": "RPysVPGH3DjZ",
        "outputId": "66c8c3e8-ed75-4efb-c8e5-1aa91ab4cdd5"
      },
      "execution_count": null,
      "outputs": [
        {
          "output_type": "stream",
          "name": "stdout",
          "text": [
            "{'one': 1, 'two': 2}\n",
            "one\n",
            "two\n"
          ]
        }
      ]
    },
    {
      "cell_type": "code",
      "source": [
        "def decorator1(function):\n",
        "    def new_function(*args, **kwargs):\n",
        "        print('첫번째 데코레이터 시작')\n",
        "        result = function(*args, **kwargs)\n",
        "        print('첫번째 데코레이터 끝')\n",
        "        return result\n",
        "\n",
        "    return new_function\n",
        "\n",
        "\n",
        "def decorator2(function):\n",
        "    def new_function(*args, **kwargs):\n",
        "        print('두번째 데코레이터 시작')\n",
        "        result = function(*args, **kwargs)\n",
        "        print('두번째 데코레이터 끝')\n",
        "        return result\n",
        "\n",
        "    return new_function\n",
        "\n",
        "\n",
        "def decorator3(function):\n",
        "    def new_function(*args, **kwargs):\n",
        "        print('세번째 데코레이터 시작')\n",
        "        result = function(*args, **kwargs)\n",
        "        print('세번째 데코레이터 끝')\n",
        "        return result\n",
        "\n",
        "    return new_function\n",
        "\n",
        "@decorator1\n",
        "@decorator2\n",
        "@decorator3\n",
        "def sum_1_to_n(n):\n",
        "    return n * (n + 1) / 2\n",
        "\n",
        "result = sum_1_to_n(30)\n",
        "\n",
        "print(f'result: {result}')"
      ],
      "metadata": {
        "colab": {
          "base_uri": "https://localhost:8080/"
        },
        "id": "0_WvYcro3NdL",
        "outputId": "7072bc1a-ebbb-443e-a746-80d5661e30d7"
      },
      "execution_count": null,
      "outputs": [
        {
          "output_type": "stream",
          "name": "stdout",
          "text": [
            "첫번째 데코레이터 시작\n",
            "두번째 데코레이터 시작\n",
            "세번째 데코레이터 시작\n",
            "세번째 데코레이터 끝\n",
            "두번째 데코레이터 끝\n",
            "첫번째 데코레이터 끝\n",
            "result: 465.0\n"
          ]
        }
      ]
    },
    {
      "cell_type": "code",
      "source": [
        "def add(n):\n",
        "    def decorator(function):\n",
        "        def new_function(*args, **kwargs):\n",
        "            result = function(*args, **kwargs)\n",
        "            return result + n\n",
        "        return new_function\n",
        "    return decorator\n",
        "\n",
        "@add(10)\n",
        "def plus(a, b):\n",
        "    return a + b\n",
        "\n",
        "result = plus(10, 20)\n",
        "print(f'result : {result}')"
      ],
      "metadata": {
        "colab": {
          "base_uri": "https://localhost:8080/"
        },
        "id": "vq0HcjQq46eO",
        "outputId": "575488ac-b804-4b33-8dfc-55994227e713"
      },
      "execution_count": null,
      "outputs": [
        {
          "output_type": "stream",
          "name": "stdout",
          "text": [
            "result : 40\n"
          ]
        }
      ]
    },
    {
      "cell_type": "markdown",
      "source": [
        "# 37번\n",
        "* 문제 변경"
      ],
      "metadata": {
        "id": "S76lwZyd5Gyc"
      }
    },
    {
      "cell_type": "code",
      "source": [
        "# 1부터 10000까지 8이라는 숫자를 count하라!\n",
        "# count를 할 수 있는 자료형으로 만드는 것이 핵심\n",
        "# 순회를 돌면서 count는 위 답안이 잘 안풀렸을 때 대안 정도가 됩니다.\n",
        "str(list(range(10000))).count('8')"
      ],
      "metadata": {
        "colab": {
          "base_uri": "https://localhost:8080/"
        },
        "id": "pAo6tx5h5IMe",
        "outputId": "56e42cf8-c138-4a20-f697-25d1d282fbea"
      },
      "execution_count": null,
      "outputs": [
        {
          "output_type": "execute_result",
          "data": {
            "text/plain": [
              "4000"
            ]
          },
          "metadata": {},
          "execution_count": 21
        }
      ]
    },
    {
      "cell_type": "markdown",
      "source": [
        "# 38번 문제"
      ],
      "metadata": {
        "id": "MpvoleJo54w9"
      }
    },
    {
      "cell_type": "markdown",
      "source": [
        "```\n",
        "점수입력 : 97 86 75 66 55 97 85 97 97 95\n",
        "출력 : 6\n",
        "```"
      ],
      "metadata": {
        "id": "CcnxrXq156g0"
      }
    },
    {
      "cell_type": "code",
      "source": [
        "map(int, '97 86 75 66 55 97 85 97 97 95'.split(' '))"
      ],
      "metadata": {
        "colab": {
          "base_uri": "https://localhost:8080/"
        },
        "id": "SkievpLL59iq",
        "outputId": "a8446c75-e2f9-47fa-aef6-ef5f48ebf294"
      },
      "execution_count": null,
      "outputs": [
        {
          "output_type": "execute_result",
          "data": {
            "text/plain": [
              "<map at 0x7cea60c3f970>"
            ]
          },
          "metadata": {},
          "execution_count": 23
        }
      ]
    },
    {
      "cell_type": "code",
      "source": [
        "set(map(int, '97 86 75 66 55 97 85 97 97 95'.split(' ')))"
      ],
      "metadata": {
        "colab": {
          "base_uri": "https://localhost:8080/"
        },
        "id": "8r9ab9YH-sQO",
        "outputId": "6620db99-2f7a-407e-d592-f492e2be0736"
      },
      "execution_count": null,
      "outputs": [
        {
          "output_type": "execute_result",
          "data": {
            "text/plain": [
              "{55, 66, 75, 85, 86, 95, 97}"
            ]
          },
          "metadata": {},
          "execution_count": 24
        }
      ]
    },
    {
      "cell_type": "code",
      "source": [
        "sorted(set(map(int, '97 86 75 66 55 97 85 97 97 95'.split(' '))))"
      ],
      "metadata": {
        "colab": {
          "base_uri": "https://localhost:8080/"
        },
        "id": "tJdmiNxy-up4",
        "outputId": "1c25ea42-724a-4a89-e475-92f99e4a1435"
      },
      "execution_count": null,
      "outputs": [
        {
          "output_type": "execute_result",
          "data": {
            "text/plain": [
              "[55, 66, 75, 85, 86, 95, 97]"
            ]
          },
          "metadata": {},
          "execution_count": 25
        }
      ]
    },
    {
      "cell_type": "code",
      "source": [
        "list(reversed(sorted(set(map(int, '97 86 75 66 55 97 85 97 97 95'.split(' '))))))[:3]"
      ],
      "metadata": {
        "colab": {
          "base_uri": "https://localhost:8080/"
        },
        "id": "6XsTRlEY-yps",
        "outputId": "0adcf828-2db5-4742-b380-4c98e5c4bb34"
      },
      "execution_count": null,
      "outputs": [
        {
          "output_type": "execute_result",
          "data": {
            "text/plain": [
              "[97, 95, 86]"
            ]
          },
          "metadata": {},
          "execution_count": 29
        }
      ]
    },
    {
      "cell_type": "code",
      "source": [
        "# 1자리 점수가 등수에 들어갔을 때에는 오류가 나는 답\n",
        "def solution(s):\n",
        "    answer = 0\n",
        "    splitdata = map(int, s.split(' '))\n",
        "    for i in list(reversed(sorted(set(splitdata))))[:3]:\n",
        "        answer += s.count(str(i))\n",
        "    return answer\n",
        "\n",
        "solution('97 86 75 66 55 97 85 97 97 95')"
      ],
      "metadata": {
        "colab": {
          "base_uri": "https://localhost:8080/"
        },
        "id": "AXRYZOJc-7Nt",
        "outputId": "d21d5f76-e2e4-430e-f729-e74ee82c7dd4"
      },
      "execution_count": null,
      "outputs": [
        {
          "output_type": "stream",
          "name": "stdout",
          "text": [
            "97\n",
            "95\n",
            "86\n"
          ]
        },
        {
          "output_type": "execute_result",
          "data": {
            "text/plain": [
              "6"
            ]
          },
          "metadata": {},
          "execution_count": 34
        }
      ]
    },
    {
      "cell_type": "code",
      "source": [
        "def solution(s):\n",
        "    answer = 0\n",
        "    splitdata = list(map(int, s.split(' ')))\n",
        "    for i in list(reversed(sorted(set(splitdata))))[:3]:\n",
        "        for j in list(splitdata):\n",
        "            if i == j:\n",
        "                answer += 1\n",
        "    return answer\n",
        "\n",
        "solution('97 86 75 66 55 97 85 97 97 95')"
      ],
      "metadata": {
        "colab": {
          "base_uri": "https://localhost:8080/"
        },
        "id": "f9n3-JXoAlmX",
        "outputId": "775421fd-bc96-4183-ddda-46f0e4e294fb"
      },
      "execution_count": null,
      "outputs": [
        {
          "output_type": "execute_result",
          "data": {
            "text/plain": [
              "6"
            ]
          },
          "metadata": {},
          "execution_count": 42
        }
      ]
    },
    {
      "cell_type": "code",
      "source": [
        "# map으로 된 데이터가 왜 한 번만 순회가 되었는지\n",
        "# https://www.notion.so/paullabworkspace/python-zip-b7a1992be7884891a5f1d0a5c0c2df9c?pvs=4\n",
        "\n",
        "def solution(s):\n",
        "    answer = 0\n",
        "    splitdata = map(int, s.split(' '))\n",
        "    for i in list(reversed(sorted(set(splitdata))))[:3]:\n",
        "        print(list(splitdata))\n",
        "        for j in list(splitdata):\n",
        "            if i == j:\n",
        "                answer += 1\n",
        "    return answer\n",
        "\n",
        "solution('97 86 75 66 55 97 85 97 97 95')"
      ],
      "metadata": {
        "colab": {
          "base_uri": "https://localhost:8080/"
        },
        "id": "SuykptPJBgkl",
        "outputId": "9bf9caea-1c6a-4727-db1b-5079566c3f1c"
      },
      "execution_count": null,
      "outputs": [
        {
          "output_type": "stream",
          "name": "stdout",
          "text": [
            "[]\n",
            "[]\n",
            "[]\n"
          ]
        },
        {
          "output_type": "execute_result",
          "data": {
            "text/plain": [
              "0"
            ]
          },
          "metadata": {},
          "execution_count": 43
        }
      ]
    },
    {
      "cell_type": "code",
      "source": [
        "import collections\n",
        "\n",
        "collections.Counter('97 86 75 66 55 97 85 97 97 95'.split(' '))"
      ],
      "metadata": {
        "colab": {
          "base_uri": "https://localhost:8080/"
        },
        "id": "R9fdKsXEDB23",
        "outputId": "00ff0480-ac67-487e-f917-81583a7023ee"
      },
      "execution_count": null,
      "outputs": [
        {
          "output_type": "execute_result",
          "data": {
            "text/plain": [
              "Counter({'97': 4, '86': 1, '75': 1, '66': 1, '55': 1, '85': 1, '95': 1})"
            ]
          },
          "metadata": {},
          "execution_count": 44
        }
      ]
    },
    {
      "cell_type": "markdown",
      "source": [
        "# 39번"
      ],
      "metadata": {
        "id": "i8xWRN8LDn_A"
      }
    },
    {
      "cell_type": "code",
      "source": [
        "# q를 e로, b를 n\n",
        "\n",
        "# 입력 : querty\n",
        "# 출력 : euerty\n",
        "\n",
        "# 입력 : hqllo my bamq is hyqwob\n",
        "# 출력 : hello my bame is hyewob\n",
        "\n",
        "'querty'.replace('q', 'e').replace('b', 'n')"
      ],
      "metadata": {
        "colab": {
          "base_uri": "https://localhost:8080/",
          "height": 35
        },
        "id": "ZH5aipmfDgte",
        "outputId": "8004949b-1f68-4141-a85b-f85058811b99"
      },
      "execution_count": null,
      "outputs": [
        {
          "output_type": "execute_result",
          "data": {
            "text/plain": [
              "'euerty'"
            ],
            "application/vnd.google.colaboratory.intrinsic+json": {
              "type": "string"
            }
          },
          "metadata": {},
          "execution_count": 45
        }
      ]
    },
    {
      "cell_type": "code",
      "source": [
        "import re\n",
        "\n",
        "result = re.sub('q', 'e', 'querty')\n",
        "re.sub('b', 'n', result)"
      ],
      "metadata": {
        "colab": {
          "base_uri": "https://localhost:8080/",
          "height": 35
        },
        "id": "Sl6i-06tD4sa",
        "outputId": "16e1219e-25fe-435d-9371-4d8f805a22fc"
      },
      "execution_count": null,
      "outputs": [
        {
          "output_type": "execute_result",
          "data": {
            "text/plain": [
              "'euerty'"
            ],
            "application/vnd.google.colaboratory.intrinsic+json": {
              "type": "string"
            }
          },
          "metadata": {},
          "execution_count": 48
        }
      ]
    },
    {
      "cell_type": "markdown",
      "source": [
        "# 41번\n",
        "\n",
        "* 1과 자기 자신 만을 약수로 가지는 수"
      ],
      "metadata": {
        "id": "LXqe1OHTGnfh"
      }
    },
    {
      "cell_type": "code",
      "source": [
        "for i in range(2, 997):\n",
        "    if 997 % i == 0:\n",
        "        print('소수가 아닙니다!')\n",
        "        break"
      ],
      "metadata": {
        "id": "t8SYdqEGGvmH"
      },
      "execution_count": null,
      "outputs": []
    },
    {
      "cell_type": "code",
      "source": [
        "for i in range(2, 12):\n",
        "    if 12 % i == 0:\n",
        "        print('소수가 아닙니다!')\n",
        "        break"
      ],
      "metadata": {
        "colab": {
          "base_uri": "https://localhost:8080/"
        },
        "id": "_V1A6u_OHBh0",
        "outputId": "75766ed7-cabc-4b18-edc9-dc4c52da2228"
      },
      "execution_count": null,
      "outputs": [
        {
          "output_type": "stream",
          "name": "stdout",
          "text": [
            "소수가 아닙니다!\n"
          ]
        }
      ]
    },
    {
      "cell_type": "code",
      "source": [
        "def prime_list(n):\n",
        "    # 에라토스테네스의 체 초기화: n개 요소에 True 설정(소수로 간주)\n",
        "    sieve = [True] * n\n",
        "\n",
        "    # n의 최대 약수가 sqrt(n) 이하이므로 i=sqrt(n)까지 검사\n",
        "    m = int(n ** 0.5)\n",
        "    for i in range(2, m + 1):\n",
        "        if sieve[i] == True:           # i가 소수인 경우\n",
        "            for j in range(i+i, n, i): # i이후 i의 배수들을 False 판정\n",
        "                sieve[j] = False\n",
        "\n",
        "    print(sieve) # 0부터 시작해서 i가 소수인경우 True\n",
        "\n",
        "    # 소수 목록 산출\n",
        "    return [i for i in range(2, n) if sieve[i] == True]\n",
        "\n",
        "prime_list(100)"
      ],
      "metadata": {
        "colab": {
          "base_uri": "https://localhost:8080/"
        },
        "id": "5m5NLAHYH7rU",
        "outputId": "4f8ec5e8-df8a-455a-952e-e5b1e40bd8cb"
      },
      "execution_count": null,
      "outputs": [
        {
          "output_type": "stream",
          "name": "stdout",
          "text": [
            "[True, True, True, True, False, True, False, True, False, False, False, True, False, True, False, False, False, True, False, True, False, False, False, True, False, False, False, False, False, True, False, True, False, False, False, False, False, True, False, False, False, True, False, True, False, False, False, True, False, False, False, False, False, True, False, False, False, False, False, True, False, True, False, False, False, False, False, True, False, False, False, True, False, True, False, False, False, False, False, True, False, False, False, True, False, False, False, False, False, True, False, False, False, False, False, False, False, True, False, False]\n"
          ]
        },
        {
          "output_type": "execute_result",
          "data": {
            "text/plain": [
              "[2,\n",
              " 3,\n",
              " 5,\n",
              " 7,\n",
              " 11,\n",
              " 13,\n",
              " 17,\n",
              " 19,\n",
              " 23,\n",
              " 29,\n",
              " 31,\n",
              " 37,\n",
              " 41,\n",
              " 43,\n",
              " 47,\n",
              " 53,\n",
              " 59,\n",
              " 61,\n",
              " 67,\n",
              " 71,\n",
              " 73,\n",
              " 79,\n",
              " 83,\n",
              " 89,\n",
              " 97]"
            ]
          },
          "metadata": {},
          "execution_count": 56
        }
      ]
    },
    {
      "cell_type": "markdown",
      "source": [
        "# 42번"
      ],
      "metadata": {
        "id": "8C9mIF4VNkJS"
      }
    },
    {
      "cell_type": "code",
      "source": [
        "import datetime\n",
        "\n",
        "date = datetime.datetime.today()\n",
        "date"
      ],
      "metadata": {
        "colab": {
          "base_uri": "https://localhost:8080/"
        },
        "id": "pGjEMoUvM7_q",
        "outputId": "00c09dce-5778-4e2f-c16c-982fd6e5ff0c"
      },
      "execution_count": null,
      "outputs": [
        {
          "output_type": "execute_result",
          "data": {
            "text/plain": [
              "datetime.datetime(2023, 8, 10, 2, 8, 44, 344583)"
            ]
          },
          "metadata": {},
          "execution_count": 57
        }
      ]
    },
    {
      "cell_type": "code",
      "source": [
        "date.year"
      ],
      "metadata": {
        "colab": {
          "base_uri": "https://localhost:8080/"
        },
        "id": "cG7JX2GTNDB5",
        "outputId": "f31a9844-9ed6-4c71-920f-f7afa0bec824"
      },
      "execution_count": null,
      "outputs": [
        {
          "output_type": "execute_result",
          "data": {
            "text/plain": [
              "2023"
            ]
          },
          "metadata": {},
          "execution_count": 58
        }
      ]
    },
    {
      "cell_type": "code",
      "source": [
        "date.year, date.month, date.day"
      ],
      "metadata": {
        "colab": {
          "base_uri": "https://localhost:8080/"
        },
        "id": "HqJWnLSCNFni",
        "outputId": "5dfc8511-3dbe-437e-f718-70f9b91ab5a8"
      },
      "execution_count": null,
      "outputs": [
        {
          "output_type": "execute_result",
          "data": {
            "text/plain": [
              "(2023, 8, 10)"
            ]
          },
          "metadata": {},
          "execution_count": 59
        }
      ]
    },
    {
      "cell_type": "code",
      "source": [
        "datetime.date(2023, 8, 10)\n",
        "datetime.date(2023, 8, 10).weekday() # 0부터 월요일"
      ],
      "metadata": {
        "colab": {
          "base_uri": "https://localhost:8080/"
        },
        "id": "LEHCzOEBNN6g",
        "outputId": "8f72671a-1c83-4ff7-95f0-0da373119535"
      },
      "execution_count": null,
      "outputs": [
        {
          "output_type": "execute_result",
          "data": {
            "text/plain": [
              "3"
            ]
          },
          "metadata": {},
          "execution_count": 61
        }
      ]
    },
    {
      "cell_type": "markdown",
      "source": [
        "# 43번"
      ],
      "metadata": {
        "id": "STyf3pB0Nxju"
      }
    },
    {
      "cell_type": "code",
      "source": [
        "bin(11)[2:]"
      ],
      "metadata": {
        "colab": {
          "base_uri": "https://localhost:8080/",
          "height": 35
        },
        "id": "Biaq3FcnNmf6",
        "outputId": "e0550924-bec1-4e02-cc6c-f23289be3885"
      },
      "execution_count": null,
      "outputs": [
        {
          "output_type": "execute_result",
          "data": {
            "text/plain": [
              "'1011'"
            ],
            "application/vnd.google.colaboratory.intrinsic+json": {
              "type": "string"
            }
          },
          "metadata": {},
          "execution_count": 63
        }
      ]
    },
    {
      "cell_type": "code",
      "source": [
        "5 // 2"
      ],
      "metadata": {
        "colab": {
          "base_uri": "https://localhost:8080/"
        },
        "id": "LcOKUehsOrNl",
        "outputId": "8bdadb34-e56c-436a-9e93-198e32a79b3f"
      },
      "execution_count": null,
      "outputs": [
        {
          "output_type": "execute_result",
          "data": {
            "text/plain": [
              "2"
            ]
          },
          "metadata": {},
          "execution_count": 65
        }
      ]
    },
    {
      "cell_type": "code",
      "source": [
        "-5 // 2"
      ],
      "metadata": {
        "colab": {
          "base_uri": "https://localhost:8080/"
        },
        "id": "wJQxNDP7OoC-",
        "outputId": "c3050550-b663-4191-ac96-3f7ff11a1ee8"
      },
      "execution_count": null,
      "outputs": [
        {
          "output_type": "execute_result",
          "data": {
            "text/plain": [
              "-3"
            ]
          },
          "metadata": {},
          "execution_count": 64
        }
      ]
    },
    {
      "cell_type": "code",
      "source": [
        "# 음수 변환까지 하려면 좀 더 고려를 해야 합니다.\n",
        "x = 11\n",
        "s = ''\n",
        "while x:\n",
        "    print(x)\n",
        "    s += str(x % 2)\n",
        "    x //= 2\n",
        "s[::-1]\n",
        "\n",
        "#   2   | 11 ... 1\n",
        "#        ---\n",
        "#   2   |  5 ... 1\n",
        "#        ---\n",
        "#   2   |  2 ... 0\n",
        "#        ---\n",
        "#   2   |  1"
      ],
      "metadata": {
        "colab": {
          "base_uri": "https://localhost:8080/",
          "height": 106
        },
        "id": "lEtx14s7OBcc",
        "outputId": "d9905a9c-cc9e-4818-c067-92bc814cc649"
      },
      "execution_count": null,
      "outputs": [
        {
          "output_type": "stream",
          "name": "stdout",
          "text": [
            "11\n",
            "5\n",
            "2\n",
            "1\n"
          ]
        },
        {
          "output_type": "execute_result",
          "data": {
            "text/plain": [
              "'1011'"
            ],
            "application/vnd.google.colaboratory.intrinsic+json": {
              "type": "string"
            }
          },
          "metadata": {},
          "execution_count": 69
        }
      ]
    },
    {
      "cell_type": "markdown",
      "source": [
        "# 44번"
      ],
      "metadata": {
        "id": "DojUkMqFPqbi"
      }
    },
    {
      "cell_type": "code",
      "source": [
        "n = 1234\n",
        "answer = 0\n",
        "for i in str(n):\n",
        "    answer += int(i)\n",
        "answer"
      ],
      "metadata": {
        "colab": {
          "base_uri": "https://localhost:8080/"
        },
        "id": "M1CXoUaKPpxu",
        "outputId": "dfd685b9-eed6-40d6-b322-b5a8444b917c"
      },
      "execution_count": null,
      "outputs": [
        {
          "output_type": "execute_result",
          "data": {
            "text/plain": [
              "10"
            ]
          },
          "metadata": {},
          "execution_count": 73
        }
      ]
    },
    {
      "cell_type": "code",
      "source": [
        "n = 1234\n",
        "sum(map(int, list(str(n))))"
      ],
      "metadata": {
        "colab": {
          "base_uri": "https://localhost:8080/"
        },
        "id": "ZTdOoGXuP6oH",
        "outputId": "81c6198d-5910-4e49-b53d-599ce559c806"
      },
      "execution_count": null,
      "outputs": [
        {
          "output_type": "execute_result",
          "data": {
            "text/plain": [
              "10"
            ]
          },
          "metadata": {},
          "execution_count": 72
        }
      ]
    },
    {
      "cell_type": "markdown",
      "source": [
        "# 48번"
      ],
      "metadata": {
        "id": "fskUkJ7OQ78H"
      }
    },
    {
      "cell_type": "code",
      "source": [
        "answer = ''\n",
        "for i in 'AAABBBcccddd':\n",
        "    if i.islower():\n",
        "        answer += i.upper()\n",
        "    else:\n",
        "        answer += i.lower()\n",
        "answer"
      ],
      "metadata": {
        "colab": {
          "base_uri": "https://localhost:8080/",
          "height": 35
        },
        "id": "RBSsZHbkQ-AV",
        "outputId": "971d34a0-307a-40fc-8bcc-5b2b9d7a1fd0"
      },
      "execution_count": null,
      "outputs": [
        {
          "output_type": "execute_result",
          "data": {
            "text/plain": [
              "'aaabbbCCCDDD'"
            ],
            "application/vnd.google.colaboratory.intrinsic+json": {
              "type": "string"
            }
          },
          "metadata": {},
          "execution_count": 75
        }
      ]
    },
    {
      "cell_type": "markdown",
      "source": [
        "# 53번"
      ],
      "metadata": {
        "id": "ijDG1surVL_y"
      }
    },
    {
      "cell_type": "code",
      "source": [
        "s = '()()'\n",
        "brackets = []\n",
        "if s.count('(') != s.count(')'):\n",
        "    print(False)\n",
        "else:\n",
        "    for i in s:\n",
        "        if i == ')' or i == '(':\n",
        "            brackets.append(i)\n",
        "    print(brackets)"
      ],
      "metadata": {
        "colab": {
          "base_uri": "https://localhost:8080/"
        },
        "id": "0UCr1pDPVNu9",
        "outputId": "612d91b8-b35b-499a-c690-4aa8e2482b96"
      },
      "execution_count": null,
      "outputs": [
        {
          "output_type": "stream",
          "name": "stdout",
          "text": [
            "['(', ')', '(', ')']\n"
          ]
        }
      ]
    },
    {
      "cell_type": "code",
      "source": [
        "s = '()()'\n",
        "brackets = []\n",
        "if s.count('(') != s.count(')'):\n",
        "    print(False)\n",
        "else:\n",
        "    print(brackets)\n",
        "    for i in s:\n",
        "        if i == '(':\n",
        "            brackets.append(i)\n",
        "        elif i == ')':\n",
        "            if len(brackets) == 0:\n",
        "                print(False)\n",
        "            brackets.pop()\n",
        "    print(True)\n",
        "\n",
        "# 닫기가 나왔을 때의 pop하는 사례를 생각해보면\n",
        "# (( )) -> 잘 맞아 떨어집니다.\n",
        "# ()() -> 잘 맞아 떨어집니다.\n",
        "# ((()())) -> 잘 맞아 떨어집니다."
      ],
      "metadata": {
        "colab": {
          "base_uri": "https://localhost:8080/"
        },
        "id": "T-ZgWJ9zV3MT",
        "outputId": "d86bbfc4-6624-48a0-91a6-09f28229819c"
      },
      "execution_count": null,
      "outputs": [
        {
          "output_type": "stream",
          "name": "stdout",
          "text": [
            "False\n"
          ]
        }
      ]
    },
    {
      "cell_type": "markdown",
      "source": [
        "# 54번"
      ],
      "metadata": {
        "id": "Mo9WSe30p5VZ"
      }
    },
    {
      "cell_type": "code",
      "source": [
        "value = list(map(int, '1 2 4 3 5'.split(' ')))\n",
        "value"
      ],
      "metadata": {
        "colab": {
          "base_uri": "https://localhost:8080/"
        },
        "id": "QkE29Tnxnas0",
        "outputId": "d2f7bd86-6768-4140-f186-8a3f4b3c0b14"
      },
      "execution_count": null,
      "outputs": [
        {
          "output_type": "execute_result",
          "data": {
            "text/plain": [
              "[1, 2, 4, 3, 5]"
            ]
          },
          "metadata": {},
          "execution_count": 86
        }
      ]
    },
    {
      "cell_type": "code",
      "source": [
        "sorted(value)"
      ],
      "metadata": {
        "colab": {
          "base_uri": "https://localhost:8080/"
        },
        "id": "yB_tI8CoqKzh",
        "outputId": "2a560f53-593e-4fd2-ad2e-216eec7c0c40"
      },
      "execution_count": null,
      "outputs": [
        {
          "output_type": "execute_result",
          "data": {
            "text/plain": [
              "[1, 2, 3, 4, 5]"
            ]
          },
          "metadata": {},
          "execution_count": 88
        }
      ]
    },
    {
      "cell_type": "code",
      "source": [
        "list(range(min(value), min(value) + len(value)))"
      ],
      "metadata": {
        "colab": {
          "base_uri": "https://localhost:8080/"
        },
        "id": "YqoB9tXOqQ71",
        "outputId": "0f9bff63-8d51-403c-cf3b-69ca4489ceee"
      },
      "execution_count": null,
      "outputs": [
        {
          "output_type": "execute_result",
          "data": {
            "text/plain": [
              "[1, 2, 3, 4, 5]"
            ]
          },
          "metadata": {},
          "execution_count": 89
        }
      ]
    },
    {
      "cell_type": "code",
      "source": [
        "list(range(min(value), min(value) + len(value))) == sorted(value)"
      ],
      "metadata": {
        "colab": {
          "base_uri": "https://localhost:8080/"
        },
        "id": "DPcAZj1-qeNn",
        "outputId": "7c4fbad3-0ffb-457f-9f7d-c6cd7ed7491b"
      },
      "execution_count": null,
      "outputs": [
        {
          "output_type": "execute_result",
          "data": {
            "text/plain": [
              "True"
            ]
          },
          "metadata": {},
          "execution_count": 90
        }
      ]
    },
    {
      "cell_type": "code",
      "source": [
        "s1 = '1 2 3 4 5'\n",
        "s2 = '1 4 2 6 3'\n",
        "def solution(s):\n",
        "    a = sorted(list(map(int, s.split(' '))))\n",
        "    if a == list(range(min(a), max(a)+1)):\n",
        "        return 'YES'\n",
        "    else:\n",
        "        return 'NO'\n",
        "\n",
        "solution(s2)"
      ],
      "metadata": {
        "colab": {
          "base_uri": "https://localhost:8080/",
          "height": 35
        },
        "id": "OnzJnsG4qqQB",
        "outputId": "2048f866-de0d-4a69-f505-5646c39087cb"
      },
      "execution_count": null,
      "outputs": [
        {
          "output_type": "execute_result",
          "data": {
            "text/plain": [
              "'NO'"
            ],
            "application/vnd.google.colaboratory.intrinsic+json": {
              "type": "string"
            }
          },
          "metadata": {},
          "execution_count": 92
        }
      ]
    },
    {
      "cell_type": "code",
      "source": [
        "def solution(num):\n",
        "    num = num.split(' ')\n",
        "    num = list(map(int, sorted(num)))\n",
        "    for i in list(zip(num, num[1:])):\n",
        "        if i[1] - i[0] != 1:\n",
        "            return 'NO'\n",
        "    return 'YES'\n",
        "\n",
        "solution('1 4 2 6 3')"
      ],
      "metadata": {
        "id": "mMnVRVmbq1IQ"
      },
      "execution_count": null,
      "outputs": []
    },
    {
      "cell_type": "code",
      "source": [
        "# 일반적인 답\n",
        "user_input = input().split(' ')\n",
        "user_input = [int(i) for i in user_input]\n",
        "\n",
        "def sol(l):\n",
        "    l = sorted(l)\n",
        "    for i in range(len(l) - 1):\n",
        "        if l[i]+1 != l[i+1]:\n",
        "            return 'NO'\n",
        "    return 'YES'\n",
        "\n",
        "print(sol(user_input))"
      ],
      "metadata": {
        "id": "WZ5jckhhrEVZ"
      },
      "execution_count": null,
      "outputs": []
    },
    {
      "cell_type": "markdown",
      "source": [
        "# 55번"
      ],
      "metadata": {
        "id": "EDgMxYpMtlY3"
      }
    },
    {
      "cell_type": "code",
      "source": [
        "# [[A, C], [A, B], [C, B], [A, C], [B, A], [B, C], [A, C]]\n",
        "원판의이동경로 = []\n",
        "def 하노이(원반의수, 시작기둥, 목표기둥, 보조기둥):\n",
        "    # 원판이 한개일 때에는 옮기면 됩니다.\n",
        "    if 원반의수 == 1:\n",
        "        원판의이동경로.append([시작기둥, 목표기둥])\n",
        "        return None\n",
        "    # 원반의 n-1개를 경유기둥으로 옮기고\n",
        "    하노이(원반의수-1, 시작기둥, 보조기둥, 목표기둥)\n",
        "    # 가장 큰 원반은 목표기둥으로\n",
        "    원판의이동경로.append([시작기둥, 목표기둥])\n",
        "    # 경유기둥과 시작기둥을 바꿉니다!\n",
        "    하노이(원반의수-1, 보조기둥, 목표기둥, 시작기둥)\n",
        "\n",
        "하노이(3,'A','C','B')\n",
        "\n",
        "print(len(원판의이동경로))\n",
        "원판의이동경로"
      ],
      "metadata": {
        "colab": {
          "base_uri": "https://localhost:8080/"
        },
        "id": "qIlG0NGRtnzk",
        "outputId": "8e655363-6c3d-49cb-829c-46518a68a5bd"
      },
      "execution_count": null,
      "outputs": [
        {
          "output_type": "stream",
          "name": "stdout",
          "text": [
            "7\n"
          ]
        },
        {
          "output_type": "execute_result",
          "data": {
            "text/plain": [
              "[['A', 'C'],\n",
              " ['A', 'B'],\n",
              " ['C', 'B'],\n",
              " ['A', 'C'],\n",
              " ['B', 'A'],\n",
              " ['B', 'C'],\n",
              " ['A', 'C']]"
            ]
          },
          "metadata": {},
          "execution_count": 100
        }
      ]
    },
    {
      "cell_type": "markdown",
      "source": [
        "# 56번"
      ],
      "metadata": {
        "id": "t4TyZathxui3"
      }
    },
    {
      "cell_type": "code",
      "source": [
        "nationWidth = {\n",
        "    'korea': 220877,\n",
        "    'Rusia': 17098242,\n",
        "    'China': 9596961,\n",
        "    'France': 543965,\n",
        "    'Japan': 377915,\n",
        "    'England': 242900,\n",
        "    'A': 543965,\n",
        "}\n",
        "\n",
        "nationWidth['korea']"
      ],
      "metadata": {
        "colab": {
          "base_uri": "https://localhost:8080/"
        },
        "id": "ZDFx7AwIxvvp",
        "outputId": "efd1dd6e-ffbd-46f8-e1f6-25a79d7c9853"
      },
      "execution_count": null,
      "outputs": [
        {
          "output_type": "execute_result",
          "data": {
            "text/plain": [
              "220877"
            ]
          },
          "metadata": {},
          "execution_count": 108
        }
      ]
    },
    {
      "cell_type": "code",
      "source": [
        "nationWidth.pop('korea')"
      ],
      "metadata": {
        "colab": {
          "base_uri": "https://localhost:8080/"
        },
        "id": "NjwwGMoI5K8S",
        "outputId": "744505d6-a515-497d-e632-a92f4a8e9fca"
      },
      "execution_count": null,
      "outputs": [
        {
          "output_type": "execute_result",
          "data": {
            "text/plain": [
              "220877"
            ]
          },
          "metadata": {},
          "execution_count": 109
        }
      ]
    },
    {
      "cell_type": "code",
      "source": [
        "mini = float('inf')\n",
        "result_key = ''\n",
        "for key in nationWidth:\n",
        "    value = nationWidth[key] - 220877\n",
        "    if value < mini:\n",
        "        mini = value\n",
        "        result_key = key\n",
        "\n",
        "result_key"
      ],
      "metadata": {
        "colab": {
          "base_uri": "https://localhost:8080/",
          "height": 35
        },
        "id": "52KcgOnD5qEW",
        "outputId": "05173053-29c0-4bd1-d504-83989602e168"
      },
      "execution_count": null,
      "outputs": [
        {
          "output_type": "execute_result",
          "data": {
            "text/plain": [
              "'England'"
            ],
            "application/vnd.google.colaboratory.intrinsic+json": {
              "type": "string"
            }
          },
          "metadata": {},
          "execution_count": 110
        }
      ]
    },
    {
      "cell_type": "code",
      "source": [
        "nationWidth = {\n",
        "    'korea': 220877,\n",
        "    'Rusia': 17098242,\n",
        "    'China': 9596961,\n",
        "    'France': 543965,\n",
        "    'Japan': 377915,\n",
        "    'England': 242900,\n",
        "    'A': 543965,\n",
        "}\n",
        "\n",
        "# nationWidth['korea']\n",
        "korea = nationWidth.pop('korea')\n",
        "mini = float('inf')\n",
        "result_key = ''\n",
        "for key in nationWidth:\n",
        "    value = nationWidth[key] - korea\n",
        "    if value < mini:\n",
        "        mini = value\n",
        "        result_key = key\n",
        "\n",
        "result_key"
      ],
      "metadata": {
        "colab": {
          "base_uri": "https://localhost:8080/",
          "height": 35
        },
        "id": "-uE9XZHz6W47",
        "outputId": "5f413ccf-5417-4a13-af90-b1ab3f8c44dc"
      },
      "execution_count": null,
      "outputs": [
        {
          "output_type": "execute_result",
          "data": {
            "text/plain": [
              "'England'"
            ],
            "application/vnd.google.colaboratory.intrinsic+json": {
              "type": "string"
            }
          },
          "metadata": {},
          "execution_count": 111
        }
      ]
    },
    {
      "cell_type": "code",
      "source": [
        "nationWidth = {\n",
        "    'korea': 220877,\n",
        "    'Rusia': 17098242,\n",
        "    'China': 9596961,\n",
        "    'France': 543965,\n",
        "    'Japan': 377915,\n",
        "    'England': 242900\n",
        "}\n",
        "\n",
        "def f(key):\n",
        "    return nationWidth[key]\n",
        "\n",
        "list(map(f, nationWidth))\n",
        "max(map(f, nationWidth)) # values에 max를 해도 되는데?"
      ],
      "metadata": {
        "colab": {
          "base_uri": "https://localhost:8080/"
        },
        "id": "sptNMp0r61NX",
        "outputId": "6612ac02-d0a5-4c69-8cfa-e344ad231206"
      },
      "execution_count": null,
      "outputs": [
        {
          "output_type": "execute_result",
          "data": {
            "text/plain": [
              "17098242"
            ]
          },
          "metadata": {},
          "execution_count": 115
        }
      ]
    },
    {
      "cell_type": "code",
      "source": [
        "nationWidth = {\n",
        "    'Rusia': 17098242,\n",
        "    'China': 9596961,\n",
        "    'France': 543965,\n",
        "    'Japan': 377915,\n",
        "    'England': 242900\n",
        "}\n",
        "\n",
        "def f(key):\n",
        "    return nationWidth[key] - 220877\n",
        "\n",
        "list(map(f, nationWidth))\n",
        "min(map(f, nationWidth))"
      ],
      "metadata": {
        "colab": {
          "base_uri": "https://localhost:8080/"
        },
        "id": "2wHCBNfu7rsR",
        "outputId": "c9901698-ba03-4139-fd4f-1a0d81359d34"
      },
      "execution_count": null,
      "outputs": [
        {
          "output_type": "execute_result",
          "data": {
            "text/plain": [
              "22023"
            ]
          },
          "metadata": {},
          "execution_count": 116
        }
      ]
    },
    {
      "cell_type": "code",
      "source": [
        "nationWidth = {\n",
        "    'Rusia': 17098242,\n",
        "    'China': 9596961,\n",
        "    'France': 543965,\n",
        "    'Japan': 377915,\n",
        "    'England': 242900\n",
        "}\n",
        "\n",
        "def f(key):\n",
        "    return [nationWidth[key] - 220877, key]\n",
        "\n",
        "list(map(f, nationWidth))\n",
        "min(map(f, nationWidth))"
      ],
      "metadata": {
        "colab": {
          "base_uri": "https://localhost:8080/"
        },
        "id": "8iDRl6eb79nV",
        "outputId": "10d4b253-aa1d-4e33-91b0-488a8a18b48f"
      },
      "execution_count": null,
      "outputs": [
        {
          "output_type": "execute_result",
          "data": {
            "text/plain": [
              "[22023, 'England']"
            ]
          },
          "metadata": {},
          "execution_count": 117
        }
      ]
    },
    {
      "cell_type": "code",
      "source": [
        "nationWidth = {\n",
        "    'Rusia': 17098242,\n",
        "    'China': 9596961,\n",
        "    'France': 543965,\n",
        "    'Japan': 377915,\n",
        "    'England': 242900\n",
        "}\n",
        "\n",
        "min(map(lambda key: [nationWidth[key] - 220877, key], nationWidth))[1]"
      ],
      "metadata": {
        "colab": {
          "base_uri": "https://localhost:8080/",
          "height": 35
        },
        "id": "6RYAqiX48X8U",
        "outputId": "ba121f12-dfbe-4fb5-e0c8-c365a5f35e96"
      },
      "execution_count": null,
      "outputs": [
        {
          "output_type": "execute_result",
          "data": {
            "text/plain": [
              "'England'"
            ],
            "application/vnd.google.colaboratory.intrinsic+json": {
              "type": "string"
            }
          },
          "metadata": {},
          "execution_count": 119
        }
      ]
    },
    {
      "cell_type": "code",
      "source": [
        "nationWidth = {\n",
        "    'korea': 220877,\n",
        "    'Rusia': 17098242,\n",
        "    'China': 9596961,\n",
        "    'France': 543965,\n",
        "    'Japan': 377915,\n",
        "    'England': 242900\n",
        "}\n",
        "\n",
        "for i in nationWidth:\n",
        "    print(i)"
      ],
      "metadata": {
        "colab": {
          "base_uri": "https://localhost:8080/"
        },
        "id": "kBeKmBCr7OxU",
        "outputId": "db5b24e0-cc48-4f72-9964-ce5c39434a22"
      },
      "execution_count": null,
      "outputs": [
        {
          "output_type": "stream",
          "name": "stdout",
          "text": [
            "korea\n",
            "Rusia\n",
            "China\n",
            "France\n",
            "Japan\n",
            "England\n"
          ]
        }
      ]
    },
    {
      "cell_type": "markdown",
      "source": [
        "# 59번"
      ],
      "metadata": {
        "id": "7JrR59N39lQL"
      }
    },
    {
      "cell_type": "code",
      "source": [
        "# 입력\n",
        "# hi\n",
        "\n",
        "# 출력\n",
        "# ========================hi========================"
      ],
      "metadata": {
        "id": "96K-b6yG9msE"
      },
      "execution_count": null,
      "outputs": []
    },
    {
      "cell_type": "code",
      "source": [
        "userInput = 'hi'\n",
        "print('{0:=^50}'.format(userInput))\n",
        "print(f'{userInput:=^50}')"
      ],
      "metadata": {
        "colab": {
          "base_uri": "https://localhost:8080/"
        },
        "id": "iq4uWNJ89p9O",
        "outputId": "ed88374e-f22d-4575-9832-71c36a6a4032"
      },
      "execution_count": null,
      "outputs": [
        {
          "output_type": "stream",
          "name": "stdout",
          "text": [
            "========================hi========================\n",
            "========================hi========================\n"
          ]
        }
      ]
    },
    {
      "cell_type": "code",
      "source": [
        "userInput = 'hi'\n",
        "print(f'{userInput:!^50}')"
      ],
      "metadata": {
        "colab": {
          "base_uri": "https://localhost:8080/"
        },
        "id": "r5_Bcj21-bAx",
        "outputId": "51899f8a-b2f1-41ad-c915-8d994dbfe72f"
      },
      "execution_count": null,
      "outputs": [
        {
          "output_type": "stream",
          "name": "stdout",
          "text": [
            "!!!!!!!!!!!!!!!!!!!!!!!!hi!!!!!!!!!!!!!!!!!!!!!!!!\n"
          ]
        }
      ]
    },
    {
      "cell_type": "code",
      "source": [
        "print(f'{userInput:!<50}')\n",
        "print(f'{userInput:!>50}')"
      ],
      "metadata": {
        "colab": {
          "base_uri": "https://localhost:8080/"
        },
        "id": "-nwT9dlz-gMx",
        "outputId": "ab39f93d-fe11-4582-e11d-77050398f668"
      },
      "execution_count": null,
      "outputs": [
        {
          "output_type": "stream",
          "name": "stdout",
          "text": [
            "hi!!!!!!!!!!!!!!!!!!!!!!!!!!!!!!!!!!!!!!!!!!!!!!!!\n",
            "!!!!!!!!!!!!!!!!!!!!!!!!!!!!!!!!!!!!!!!!!!!!!!!!hi\n"
          ]
        }
      ]
    },
    {
      "cell_type": "code",
      "source": [
        "n = 50\n",
        "userInput = 'hello world'\n",
        "('=' * (50//2)) + userInput + ('=' * (50//2))\n",
        "('=' * ((50//2) - len(userInput)//2)) + userInput + ('=' * ((50//2) - len(userInput)//2))"
      ],
      "metadata": {
        "colab": {
          "base_uri": "https://localhost:8080/",
          "height": 35
        },
        "id": "I4Iy8qqP-t20",
        "outputId": "52983f13-fff7-4f0e-f509-96c6f7818ddf"
      },
      "execution_count": null,
      "outputs": [
        {
          "output_type": "execute_result",
          "data": {
            "text/plain": [
              "'====================hello world===================='"
            ],
            "application/vnd.google.colaboratory.intrinsic+json": {
              "type": "string"
            }
          },
          "metadata": {},
          "execution_count": 128
        }
      ]
    },
    {
      "cell_type": "markdown",
      "source": [
        "# 60번"
      ],
      "metadata": {
        "id": "kFqJfHpc_S4V"
      }
    },
    {
      "cell_type": "code",
      "source": [
        "student = ['강은지','김유정','박현서','최성훈','홍유진','박지호','권윤일','김채리','한지호','김진이','김민호','강채연']\n",
        "for num, name in enumerate(student, 1):\n",
        "    print(num, name)"
      ],
      "metadata": {
        "colab": {
          "base_uri": "https://localhost:8080/"
        },
        "id": "xIerkJg5_Uvz",
        "outputId": "0d88075a-e9e5-4353-ee4a-63d551dfb323"
      },
      "execution_count": null,
      "outputs": [
        {
          "output_type": "stream",
          "name": "stdout",
          "text": [
            "1 강은지\n",
            "2 김유정\n",
            "3 박현서\n",
            "4 최성훈\n",
            "5 홍유진\n",
            "6 박지호\n",
            "7 권윤일\n",
            "8 김채리\n",
            "9 한지호\n",
            "10 김진이\n",
            "11 김민호\n",
            "12 강채연\n"
          ]
        }
      ]
    },
    {
      "cell_type": "markdown",
      "source": [
        "# 61번"
      ],
      "metadata": {
        "id": "z0TjYKU9CQMt"
      }
    },
    {
      "cell_type": "code",
      "source": [
        "# 입력\n",
        "# aaabbbbcddddaaabbbbcdddd\n",
        "\n",
        "# 출력\n",
        "# a3b4c1d4a3b4c1d4\n",
        "\n",
        "s = 'aaabbbbcddddaaabbbbcdddd'\n",
        "answer = ''\n",
        "count = 0\n",
        "pre = s[0]\n",
        "for i in s:\n",
        "    # print(pre, i)\n",
        "    if pre == i:\n",
        "        count += 1\n",
        "    else:\n",
        "        answer += pre + str(count)\n",
        "        pre = i\n",
        "        count = 1\n",
        "\n",
        "answer += pre + str(count)\n",
        "\n",
        "answer"
      ],
      "metadata": {
        "colab": {
          "base_uri": "https://localhost:8080/",
          "height": 35
        },
        "id": "VtANmEgCCR1U",
        "outputId": "8f82b3be-8473-4db5-a072-fcf5a3045d1f"
      },
      "execution_count": null,
      "outputs": [
        {
          "output_type": "execute_result",
          "data": {
            "text/plain": [
              "'a3b4c1d4a3b4c1d4'"
            ],
            "application/vnd.google.colaboratory.intrinsic+json": {
              "type": "string"
            }
          },
          "metadata": {},
          "execution_count": 145
        }
      ]
    },
    {
      "cell_type": "code",
      "source": [
        "import re\n",
        "\n",
        "s = 'aaabbbbcddddaaabbbbcdddd'\n",
        "re.findall('(\\\\w)(\\\\1*)', s)"
      ],
      "metadata": {
        "colab": {
          "base_uri": "https://localhost:8080/"
        },
        "id": "6BdbQolEGYjF",
        "outputId": "40b3a5a5-50d6-4a2b-d196-82426feef045"
      },
      "execution_count": null,
      "outputs": [
        {
          "output_type": "execute_result",
          "data": {
            "text/plain": [
              "[('a', 'aa'),\n",
              " ('b', 'bbb'),\n",
              " ('c', ''),\n",
              " ('d', 'ddd'),\n",
              " ('a', 'aa'),\n",
              " ('b', 'bbb'),\n",
              " ('c', ''),\n",
              " ('d', 'ddd')]"
            ]
          },
          "metadata": {},
          "execution_count": 148
        }
      ]
    },
    {
      "cell_type": "code",
      "source": [
        "import re\n",
        "\n",
        "s = 'aaabbbbcddddaaabbbbcdddd'\n",
        "answer = ''\n",
        "\n",
        "for i in re.findall('(\\\\w)(\\\\1*)', s):\n",
        "    answer += i[0] + str(len(i[1])+1)\n",
        "\n",
        "answer"
      ],
      "metadata": {
        "colab": {
          "base_uri": "https://localhost:8080/",
          "height": 35
        },
        "id": "igtuymZfHNyb",
        "outputId": "b612f9b7-631b-4c9a-876e-16c3def29cf4"
      },
      "execution_count": null,
      "outputs": [
        {
          "output_type": "execute_result",
          "data": {
            "text/plain": [
              "'a3b4c1d4a3b4c1d4'"
            ],
            "application/vnd.google.colaboratory.intrinsic+json": {
              "type": "string"
            }
          },
          "metadata": {},
          "execution_count": 150
        }
      ]
    },
    {
      "cell_type": "markdown",
      "source": [
        "# 62번"
      ],
      "metadata": {
        "id": "fjc1gjsyIFET"
      }
    },
    {
      "cell_type": "code",
      "source": [
        "string = 'aacddddddddd'\n",
        "a = string.count('a') #2\n",
        "b = string.count('b') #0\n",
        "c = string.count('c') #1\n",
        "d = string.count('d') #9\n",
        "\n",
        "print(int(str(a)+str(b)+str(c)+str(d)+str(b)+str(d)+str(a)+str(a+1)))"
      ],
      "metadata": {
        "colab": {
          "base_uri": "https://localhost:8080/"
        },
        "id": "TLxdnuULIHqS",
        "outputId": "0ed927e3-d88c-4f84-bfe5-45a03716b67b"
      },
      "execution_count": null,
      "outputs": [
        {
          "output_type": "stream",
          "name": "stdout",
          "text": [
            "20190923\n"
          ]
        }
      ]
    },
    {
      "cell_type": "markdown",
      "source": [
        "# 65번"
      ],
      "metadata": {
        "id": "TL0y5Jy4KPry"
      }
    },
    {
      "cell_type": "code",
      "source": [
        "a = [1, 2, 3, 4]\n",
        "b = ['a', 'b', 'c', 'd']\n",
        "\n",
        "[i for i in zip(a, b)]"
      ],
      "metadata": {
        "colab": {
          "base_uri": "https://localhost:8080/"
        },
        "id": "Xq7jDBjhKRvL",
        "outputId": "e5bbbc64-12ef-45d1-f037-8273a8a80f42"
      },
      "execution_count": null,
      "outputs": [
        {
          "output_type": "execute_result",
          "data": {
            "text/plain": [
              "[(1, 'a'), (2, 'b'), (3, 'c'), (4, 'd')]"
            ]
          },
          "metadata": {},
          "execution_count": 152
        }
      ]
    },
    {
      "cell_type": "code",
      "source": [
        "[[1, 'a'], ['b', 2], [3, 'c'], ['d', 4]]"
      ],
      "metadata": {
        "id": "cASBb8aEKZk5"
      },
      "execution_count": null,
      "outputs": []
    },
    {
      "cell_type": "code",
      "source": [
        "result = []\n",
        "for i in range(4):\n",
        "    if i % 2 == 0:\n",
        "        result.append([a[i], b[i]])\n",
        "    else:\n",
        "        result.append([b[i], a[i]])\n",
        "\n",
        "result"
      ],
      "metadata": {
        "colab": {
          "base_uri": "https://localhost:8080/"
        },
        "id": "mt-WxVy7KbJ7",
        "outputId": "f21fe068-77e4-4b26-d6f8-07ee0ef2ba0d"
      },
      "execution_count": null,
      "outputs": [
        {
          "output_type": "execute_result",
          "data": {
            "text/plain": [
              "[[1, 'a'], ['b', 2], [3, 'c'], ['d', 4]]"
            ]
          },
          "metadata": {},
          "execution_count": 154
        }
      ]
    },
    {
      "cell_type": "code",
      "source": [
        "a = [1, 2, 3, 4]\n",
        "b = ['a', 'b', 'c', 'd']\n",
        "\n",
        "x = list(zip(a, b))\n",
        "y = list(zip(b, a))\n",
        "x"
      ],
      "metadata": {
        "colab": {
          "base_uri": "https://localhost:8080/"
        },
        "id": "Kuo62QPeKumM",
        "outputId": "1e40076a-a046-449c-b46f-1f85d8ff6278"
      },
      "execution_count": null,
      "outputs": [
        {
          "output_type": "execute_result",
          "data": {
            "text/plain": [
              "[(1, 'a'), (2, 'b'), (3, 'c'), (4, 'd')]"
            ]
          },
          "metadata": {},
          "execution_count": 159
        }
      ]
    },
    {
      "cell_type": "code",
      "source": [
        "result = []\n",
        "\n",
        "for i in range(4):\n",
        "    if i % 2 == 0:\n",
        "        result.append(x[i])\n",
        "    else:\n",
        "        result.append(y[i])\n",
        "\n",
        "result"
      ],
      "metadata": {
        "colab": {
          "base_uri": "https://localhost:8080/"
        },
        "id": "QxrfSikUK3G0",
        "outputId": "e762f7e7-0c79-479d-fc81-5a829484367b"
      },
      "execution_count": null,
      "outputs": [
        {
          "output_type": "execute_result",
          "data": {
            "text/plain": [
              "[(1, 'a'), ('b', 2), (3, 'c'), ('d', 4)]"
            ]
          },
          "metadata": {},
          "execution_count": 161
        }
      ]
    },
    {
      "cell_type": "code",
      "source": [
        "x[::2], y[1::2]"
      ],
      "metadata": {
        "colab": {
          "base_uri": "https://localhost:8080/"
        },
        "id": "QlQC-A_4LOR9",
        "outputId": "c37b2c20-647f-42ce-a817-81cc1a3e3e0f"
      },
      "execution_count": null,
      "outputs": [
        {
          "output_type": "execute_result",
          "data": {
            "text/plain": [
              "([(1, 'a'), (3, 'c')], [('b', 2), ('d', 4)])"
            ]
          },
          "metadata": {},
          "execution_count": 162
        }
      ]
    },
    {
      "cell_type": "code",
      "source": [
        "a = [1, 2, 3, 4]\n",
        "b = ['a', 'b', 'c', 'd']\n",
        "\n",
        "print(list(map(lambda x: x[::-1] if x[0] % 2 == 0 else x, list(zip(a, b)))))\n",
        "print(list(map(lambda x: x[::-1] if x[0] % 2 == 0 else x, [(1, 'a'), (2, 'b'), (3, 'c'), (4, 'd')])))"
      ],
      "metadata": {
        "colab": {
          "base_uri": "https://localhost:8080/"
        },
        "id": "Jn-Q7tmdLaX6",
        "outputId": "fcf2e8b5-cf5f-49d3-f387-25ad66bc5a39"
      },
      "execution_count": null,
      "outputs": [
        {
          "output_type": "stream",
          "name": "stdout",
          "text": [
            "[(1, 'a'), ('b', 2), (3, 'c'), ('d', 4)]\n",
            "[(1, 'a'), ('b', 2), (3, 'c'), ('d', 4)]\n"
          ]
        }
      ]
    },
    {
      "cell_type": "code",
      "source": [
        "a = [1, 2, 3, 4]\n",
        "b = ['a', 'b', 'c', 'd']\n",
        "\n",
        "x = list(zip(a, b))\n",
        "y = list(zip(b, a))\n",
        "\n",
        "answer = []\n",
        "list(map(lambda num: x[num] if num % 2 == 0 else y[num], range(len(a))))"
      ],
      "metadata": {
        "colab": {
          "base_uri": "https://localhost:8080/"
        },
        "id": "DnYUlFQgMSAp",
        "outputId": "832b07a1-02be-4e45-bbe2-39559ac655a1"
      },
      "execution_count": null,
      "outputs": [
        {
          "output_type": "execute_result",
          "data": {
            "text/plain": [
              "[(1, 'a'), ('b', 2), (3, 'c'), ('d', 4)]"
            ]
          },
          "metadata": {},
          "execution_count": 166
        }
      ]
    },
    {
      "cell_type": "markdown",
      "source": [
        "# 66번"
      ],
      "metadata": {
        "id": "B0xB1f-W96x6"
      }
    },
    {
      "cell_type": "code",
      "source": [
        "탑 = [\"ABCDEF\", \"BCAD\", \"ADEFQRX\", \"BEDFG\"]\n",
        "규칙 = \"ABD\"\n",
        "\n",
        "answer = []\n",
        "\n",
        "for t in 탑:\n",
        "    규칙인덱스 = [rule for rule in 규칙]\n",
        "    print(규칙인덱스)"
      ],
      "metadata": {
        "colab": {
          "base_uri": "https://localhost:8080/"
        },
        "id": "ASPh1asc_oZ8",
        "outputId": "e68d873b-4f09-41a6-c484-8d4722835329"
      },
      "execution_count": null,
      "outputs": [
        {
          "output_type": "stream",
          "name": "stdout",
          "text": [
            "['A', 'B', 'D']\n",
            "['A', 'B', 'D']\n",
            "['A', 'B', 'D']\n",
            "['A', 'B', 'D']\n"
          ]
        }
      ]
    },
    {
      "cell_type": "code",
      "source": [
        "탑 = [\"ABCDEF\", \"BCAD\", \"ADEFQRX\", \"BEDFG\"]\n",
        "규칙 = \"ABD\"\n",
        "\n",
        "answer = []\n",
        "\n",
        "for t in 탑:\n",
        "    규칙인덱스 = [rule for rule in 규칙 if rule in t]\n",
        "    print(규칙인덱스)"
      ],
      "metadata": {
        "colab": {
          "base_uri": "https://localhost:8080/"
        },
        "id": "rv7DO957_z16",
        "outputId": "b50ade0e-fa37-4379-ff25-b25934370b84"
      },
      "execution_count": null,
      "outputs": [
        {
          "output_type": "stream",
          "name": "stdout",
          "text": [
            "['A', 'B', 'D']\n",
            "['A', 'B', 'D']\n",
            "['A', 'D']\n",
            "['B', 'D']\n"
          ]
        }
      ]
    },
    {
      "cell_type": "code",
      "source": [
        "탑 = [\"ABCDEF\", \"BCAD\", \"ADEFQRX\", \"BEDFG\"]\n",
        "규칙 = \"ABD\"\n",
        "\n",
        "answer = []\n",
        "\n",
        "for t in 탑:\n",
        "    규칙인덱스 = [t.index(rule) for rule in 규칙 if rule in t]\n",
        "    print(규칙인덱스)\n",
        "    if 규칙인덱스 == sorted(규칙인덱스):\n",
        "        print('가능')\n",
        "    else:\n",
        "        print('불가능')\n",
        "\n",
        "# 'A'가 중복해서 나오는 경우 -> 규칙에서 허락하지 않음\n",
        "# 아무런 문자열을 찾지 못하는 경우 -> 현재 위 코드로 error를 출력하진 않음"
      ],
      "metadata": {
        "colab": {
          "base_uri": "https://localhost:8080/"
        },
        "id": "_hxTxY6QAAK3",
        "outputId": "43ddc11f-c159-43d8-b8ab-958352813f3b"
      },
      "execution_count": null,
      "outputs": [
        {
          "output_type": "stream",
          "name": "stdout",
          "text": [
            "[]\n",
            "가능\n",
            "[2, 0, 3]\n",
            "불가능\n",
            "[0, 1]\n",
            "가능\n",
            "[0, 2]\n",
            "가능\n"
          ]
        }
      ]
    },
    {
      "cell_type": "code",
      "source": [
        "탑 = [\"ABCDEF\", \"BCAD\", \"ADEFQRX\", \"BEDFG\"]\n",
        "규칙 = \"ABD\"\n",
        "\n",
        "answer = []\n",
        "\n",
        "for t in 탑:\n",
        "    규칙인덱스 = [t.index(rule) for rule in 규칙 if rule in t]\n",
        "    print(규칙인덱스)\n",
        "    if 규칙인덱스 == sorted(규칙인덱스):\n",
        "        answer.append('가능')\n",
        "    else:\n",
        "        answer.append('불가능')\n"
      ],
      "metadata": {
        "colab": {
          "base_uri": "https://localhost:8080/"
        },
        "id": "XGt9hwHq_A1K",
        "outputId": "8043fb5e-f38a-4ea4-dd79-2fbf9903c47b"
      },
      "execution_count": null,
      "outputs": [
        {
          "output_type": "stream",
          "name": "stdout",
          "text": [
            "[0, 1, 3]\n",
            "[2, 0, 3]\n",
            "[0, 1]\n",
            "[0, 2]\n"
          ]
        }
      ]
    },
    {
      "cell_type": "code",
      "source": [
        "# 2번째 풀이\n",
        "rule = 'ABD'\n",
        "x = \"ABCDEF\"\n",
        "[x.find(r) for r in rule if x.find(r) != -1]"
      ],
      "metadata": {
        "colab": {
          "base_uri": "https://localhost:8080/"
        },
        "id": "CR55uId6BDhk",
        "outputId": "17283875-8df8-4365-e026-1387db8a5a49"
      },
      "execution_count": null,
      "outputs": [
        {
          "output_type": "execute_result",
          "data": {
            "text/plain": [
              "[0, 1, 3]"
            ]
          },
          "metadata": {},
          "execution_count": 10
        }
      ]
    },
    {
      "cell_type": "code",
      "source": [
        "all([True, True, True]) # 다 True여야 True\n",
        "all([True, True, False])\n",
        "any([True, True, False]) # 하나라도 True이면 True"
      ],
      "metadata": {
        "colab": {
          "base_uri": "https://localhost:8080/"
        },
        "id": "IxiYqA_LCSWO",
        "outputId": "5ca3b4b3-4742-4b79-e44e-8f1a39fdfca3"
      },
      "execution_count": null,
      "outputs": [
        {
          "output_type": "execute_result",
          "data": {
            "text/plain": [
              "True"
            ]
          },
          "metadata": {},
          "execution_count": 15
        }
      ]
    },
    {
      "cell_type": "code",
      "source": [
        "result = [[0, 1, 3]]\n",
        "x = \"ABCDEF\"\n",
        "list(map(lambda x: '가능' if all(x[i] < x[i+1] for i in range(len(x)-1)) else '불가능', result))"
      ],
      "metadata": {
        "colab": {
          "base_uri": "https://localhost:8080/"
        },
        "id": "G_qB-IVKBxzJ",
        "outputId": "b9814371-dc60-4ad3-8eb2-8d403437591b"
      },
      "execution_count": null,
      "outputs": [
        {
          "output_type": "execute_result",
          "data": {
            "text/plain": [
              "['가능']"
            ]
          },
          "metadata": {},
          "execution_count": 11
        }
      ]
    },
    {
      "cell_type": "code",
      "source": [
        "def solution(x):\n",
        "    if all(x[i] < x[i+1] for i in range(len(x)-1)):\n",
        "        return '가능'\n",
        "    else:\n",
        "        return '불가능'\n",
        "\n",
        "solution([0, 1, 3])"
      ],
      "metadata": {
        "colab": {
          "base_uri": "https://localhost:8080/",
          "height": 35
        },
        "id": "-4NfNAz7DR2F",
        "outputId": "0726095c-b759-4ee5-8f08-ede0dfbbe4cf"
      },
      "execution_count": null,
      "outputs": [
        {
          "output_type": "execute_result",
          "data": {
            "text/plain": [
              "'가능'"
            ],
            "application/vnd.google.colaboratory.intrinsic+json": {
              "type": "string"
            }
          },
          "metadata": {},
          "execution_count": 17
        }
      ]
    },
    {
      "cell_type": "code",
      "source": [
        "def solution(x):\n",
        "    if all(x[i] < x[i+1] for i in range(len(x)-1)):\n",
        "        return '가능'\n",
        "    else:\n",
        "        return '불가능'\n",
        "\n",
        "solution([5, 1, 3])"
      ],
      "metadata": {
        "colab": {
          "base_uri": "https://localhost:8080/",
          "height": 35
        },
        "id": "PUmEfT6FDveu",
        "outputId": "6c98b318-0f41-4d78-b10c-88f40ffc6679"
      },
      "execution_count": null,
      "outputs": [
        {
          "output_type": "execute_result",
          "data": {
            "text/plain": [
              "'불가능'"
            ],
            "application/vnd.google.colaboratory.intrinsic+json": {
              "type": "string"
            }
          },
          "metadata": {},
          "execution_count": 18
        }
      ]
    },
    {
      "cell_type": "code",
      "source": [
        "input = [\"ABCDEF\", \"BCAD\", \"ADEFQRX\", \"BEDFG\"]\n",
        "rule = list(rule)\n",
        "result = list(map(lambda x: [x.find(r) for r in rule if x.find(r) != -1], input))\n",
        "list(map(lambda x: '가능' if all(x[i] < x[i+1] for i in range(len(x)-1)) else '불가능', result))"
      ],
      "metadata": {
        "id": "u9mTGEs1Bpn8"
      },
      "execution_count": null,
      "outputs": []
    },
    {
      "cell_type": "code",
      "source": [
        "# 쉬운풀이\n",
        "string = [\"ABCDEF\", \"BCAD\", \"ADEFQRX\", \"BEDFG\"]\n",
        "rule = \"ABD\"\n",
        "\n",
        "def solution(s, rule):\n",
        "    temp = 0\n",
        "    for i in s: #i:'D', s:\"ABCDEF\"\n",
        "        if i in rule:\n",
        "            if temp > rule.index(i): # rule.index(i): 문자가 rule에 있다면 몇 번째에 있는지(1 > 3)\n",
        "                return '불가능'\n",
        "            temp = rule.index(i)\n",
        "    return '가능'\n",
        "\n",
        "solution(string[3], rule)"
      ],
      "metadata": {
        "colab": {
          "base_uri": "https://localhost:8080/",
          "height": 35
        },
        "id": "k3JD_nQzEBhC",
        "outputId": "febb5d77-6e18-4502-df94-1b98620ee922"
      },
      "execution_count": null,
      "outputs": [
        {
          "output_type": "execute_result",
          "data": {
            "text/plain": [
              "'가능'"
            ],
            "application/vnd.google.colaboratory.intrinsic+json": {
              "type": "string"
            }
          },
          "metadata": {},
          "execution_count": 22
        }
      ]
    },
    {
      "cell_type": "markdown",
      "source": [
        "# 67번"
      ],
      "metadata": {
        "id": "DvPevdWrIigJ"
      }
    },
    {
      "cell_type": "code",
      "source": [
        "# 2명[a, b] - [a, b], 1번\n",
        "# 3명[a, b, c] - [a, b], [a, c], [b, c], 3번\n",
        "# 조합(2명이 들어가는 조합)"
      ],
      "metadata": {
        "id": "F1EgW2tdIjvP"
      },
      "execution_count": null,
      "outputs": []
    },
    {
      "cell_type": "code",
      "source": [
        "from itertools import combinations\n",
        "\n",
        "n = 4\n",
        "nums = range(n)\n",
        "combi = list(combinations(nums, 2))\n",
        "combi"
      ],
      "metadata": {
        "colab": {
          "base_uri": "https://localhost:8080/"
        },
        "id": "LSE7Qc5-JLJI",
        "outputId": "713835e2-309a-433e-ad32-4447cfdda2c2"
      },
      "execution_count": null,
      "outputs": [
        {
          "output_type": "execute_result",
          "data": {
            "text/plain": [
              "[(0, 1), (0, 2), (0, 3), (1, 2), (1, 3), (2, 3)]"
            ]
          },
          "metadata": {},
          "execution_count": 29
        }
      ]
    },
    {
      "cell_type": "code",
      "source": [
        "from itertools import combinations\n",
        "\n",
        "n = 10 + 1\n",
        "nums = range(n)\n",
        "combi = list(combinations(nums, 2))\n",
        "59 - len(combi)"
      ],
      "metadata": {
        "colab": {
          "base_uri": "https://localhost:8080/"
        },
        "id": "ODbGbvvMJfcA",
        "outputId": "2bc243ba-1194-4c75-d0b7-2092803a87aa"
      },
      "execution_count": null,
      "outputs": [
        {
          "output_type": "execute_result",
          "data": {
            "text/plain": [
              "4"
            ]
          },
          "metadata": {},
          "execution_count": 40
        }
      ]
    },
    {
      "cell_type": "code",
      "source": [
        "from itertools import combinations\n",
        "\n",
        "n = 11\n",
        "nums = range(n)\n",
        "combi = list(combinations(nums, 2))\n",
        "59 - len(combi)"
      ],
      "metadata": {
        "colab": {
          "base_uri": "https://localhost:8080/"
        },
        "id": "JdSgPR7-J7WE",
        "outputId": "33a62a91-7fe4-4ffd-8df1-6c53993db227"
      },
      "execution_count": null,
      "outputs": [
        {
          "output_type": "execute_result",
          "data": {
            "text/plain": [
              "4"
            ]
          },
          "metadata": {},
          "execution_count": 42
        }
      ]
    },
    {
      "cell_type": "code",
      "source": [
        "# 1. 데이터\n",
        "# graph = {'E': set(['D', 'A']),\n",
        "#          'F': set(['D']),\n",
        "#          'A': set(['E', 'C', 'B']),\n",
        "#          'B': set(['A']),\n",
        "#          'C': set(['A']),\n",
        "#          'D': set(['E','F'])}\n",
        "\n",
        "# 2. 출력\n",
        "# ['E', 'A', 'B', 'C', 'D', 'F']\n",
        "\n",
        "# 3. 코드\n",
        "graph = {\n",
        "        'A': set(['B', 'C', 'E']),\n",
        "        'B': set(['A']),\n",
        "        'C': set(['A']),\n",
        "        'D': set(['E', 'F']),\n",
        "        'E': set(['A', 'D']),\n",
        "        'F': set(['D'])\n",
        "}\n",
        "\n",
        "def dfs(graph, start):\n",
        "    visited = []\n",
        "    stack = [start]\n",
        "\n",
        "    while stack:\n",
        "        n = stack.pop()\n",
        "        if n not in visited:\n",
        "            visited.append(n)\n",
        "            stack += graph[n] - set(visited)\n",
        "    return visited\n",
        "\n",
        "print(dfs(graph, 'E'))"
      ],
      "metadata": {
        "colab": {
          "base_uri": "https://localhost:8080/"
        },
        "id": "KKlkmu0aLfy6",
        "outputId": "e2befdaf-79e1-4d95-a154-cd2cd62b93fc"
      },
      "execution_count": null,
      "outputs": [
        {
          "output_type": "stream",
          "name": "stdout",
          "text": [
            "['E', 'A', 'B', 'C', 'D', 'F']\n"
          ]
        }
      ]
    },
    {
      "cell_type": "markdown",
      "source": [
        "# 76번 문제"
      ],
      "metadata": {
        "id": "Z36uNzgpRrLj"
      }
    },
    {
      "cell_type": "code",
      "source": [
        "사각형 = 5\n",
        "탐색가능지역 = 3\n",
        "\n",
        "지뢰밭 = [[1, 0, 0, 1, 0],\n",
        "          [0, 1, 0, 0, 1],\n",
        "          [0, 0, 0, 1, 0],\n",
        "          [0, 0, 0, 0, 0],\n",
        "          [0, 0, 1, 0, 0]]"
      ],
      "metadata": {
        "id": "VrM5D61wRtEx"
      },
      "execution_count": null,
      "outputs": []
    },
    {
      "cell_type": "code",
      "source": [
        "import numpy as np\n",
        "\n",
        "arr = np.array(지뢰밭)"
      ],
      "metadata": {
        "id": "zlYTKuyiRwwh"
      },
      "execution_count": null,
      "outputs": []
    },
    {
      "cell_type": "code",
      "source": [
        "arr[0:3, 0:3]"
      ],
      "metadata": {
        "colab": {
          "base_uri": "https://localhost:8080/"
        },
        "id": "3Ve96LfMR79C",
        "outputId": "e7aed64e-27f4-491c-9709-3828c5eba162"
      },
      "execution_count": null,
      "outputs": [
        {
          "output_type": "execute_result",
          "data": {
            "text/plain": [
              "array([[1, 0, 0],\n",
              "       [0, 1, 0],\n",
              "       [0, 0, 0]])"
            ]
          },
          "metadata": {},
          "execution_count": 49
        }
      ]
    },
    {
      "cell_type": "code",
      "source": [
        "arr[0:3, 0:3].sum()"
      ],
      "metadata": {
        "colab": {
          "base_uri": "https://localhost:8080/"
        },
        "id": "XtH1n7n8SGV4",
        "outputId": "68282212-bd6a-401e-c1d4-623e21ab9ff5"
      },
      "execution_count": null,
      "outputs": [
        {
          "output_type": "execute_result",
          "data": {
            "text/plain": [
              "2"
            ]
          },
          "metadata": {},
          "execution_count": 50
        }
      ]
    },
    {
      "cell_type": "code",
      "source": [
        "arr"
      ],
      "metadata": {
        "colab": {
          "base_uri": "https://localhost:8080/"
        },
        "id": "yce3gs94SLLy",
        "outputId": "e798bfd4-4ff2-4607-c86b-fbd667d3c725"
      },
      "execution_count": null,
      "outputs": [
        {
          "output_type": "execute_result",
          "data": {
            "text/plain": [
              "array([[1, 0, 0, 1, 0],\n",
              "       [0, 1, 0, 0, 1],\n",
              "       [0, 0, 0, 1, 0],\n",
              "       [0, 0, 0, 0, 0],\n",
              "       [0, 0, 1, 0, 0]])"
            ]
          },
          "metadata": {},
          "execution_count": 51
        }
      ]
    },
    {
      "cell_type": "code",
      "source": [
        "print(arr[0:3, 0:3])\n",
        "print(arr[0:3, 1:4])\n",
        "print(arr[0:3, 2:5])\n",
        "# print(arr[0:3, 3:6])\n",
        "print(arr[1:4, 0:3])\n",
        "print(arr[1:4, 1:4])\n",
        "print(arr[1:4, 2:5])\n",
        "\n",
        "print(arr[2:5, 0:3])\n",
        "print(arr[2:5, 1:4])\n",
        "print(arr[2:5, 2:5])"
      ],
      "metadata": {
        "id": "du77S1YESI7q"
      },
      "execution_count": null,
      "outputs": []
    },
    {
      "cell_type": "code",
      "source": [
        "사각형 = 5\n",
        "탐색가능지역 = 3\n",
        "for i in range(사각형 - 탐색가능지역 + 1):\n",
        "    # print(arr[i:i+탐색가능지역, 0:3])\n",
        "    print(f'[{i}:{i+탐색가능지역}, 0:3]')"
      ],
      "metadata": {
        "colab": {
          "base_uri": "https://localhost:8080/"
        },
        "id": "7kZ58em7U1c6",
        "outputId": "dbecdecb-7756-4672-da22-d4e95a24da27"
      },
      "execution_count": null,
      "outputs": [
        {
          "output_type": "stream",
          "name": "stdout",
          "text": [
            "[0:3, 0:3]\n",
            "[1:4, 0:3]\n",
            "[2:5, 0:3]\n"
          ]
        }
      ]
    },
    {
      "cell_type": "code",
      "source": [
        "사각형 = 5\n",
        "탐색가능지역 = 3\n",
        "for i in range(사각형 - 탐색가능지역 + 1):\n",
        "    for j in range(사각형 - 탐색가능지역 + 1):\n",
        "        print(f'[{i}:{i+탐색가능지역}, {j}:{j+탐색가능지역}]')"
      ],
      "metadata": {
        "colab": {
          "base_uri": "https://localhost:8080/"
        },
        "id": "EPP8gYR3VanV",
        "outputId": "9b02afce-ef8c-465d-d70d-c1ac9b701423"
      },
      "execution_count": null,
      "outputs": [
        {
          "output_type": "stream",
          "name": "stdout",
          "text": [
            "[0:3, 0:3]\n",
            "[0:3, 1:4]\n",
            "[0:3, 2:5]\n",
            "[1:4, 0:3]\n",
            "[1:4, 1:4]\n",
            "[1:4, 2:5]\n",
            "[2:5, 0:3]\n",
            "[2:5, 1:4]\n",
            "[2:5, 2:5]\n"
          ]
        }
      ]
    },
    {
      "cell_type": "code",
      "source": [
        "arr"
      ],
      "metadata": {
        "colab": {
          "base_uri": "https://localhost:8080/"
        },
        "id": "C4PTDsL0V1Cf",
        "outputId": "7500f72a-131a-4048-bb43-f3184d16b17b"
      },
      "execution_count": null,
      "outputs": [
        {
          "output_type": "execute_result",
          "data": {
            "text/plain": [
              "array([[1, 0, 0, 1, 0],\n",
              "       [0, 1, 0, 0, 1],\n",
              "       [0, 0, 0, 1, 0],\n",
              "       [0, 0, 0, 0, 0],\n",
              "       [0, 0, 1, 0, 0]])"
            ]
          },
          "metadata": {},
          "execution_count": 62
        }
      ]
    },
    {
      "cell_type": "code",
      "source": [
        "사각형 = 5\n",
        "탐색가능지역 = 3\n",
        "for i in range(사각형 - 탐색가능지역 + 1):\n",
        "    for j in range(사각형 - 탐색가능지역 + 1):\n",
        "        print(arr[i:i+탐색가능지역, j:j+탐색가능지역])"
      ],
      "metadata": {
        "id": "5xK7i756Voj0"
      },
      "execution_count": null,
      "outputs": []
    },
    {
      "cell_type": "code",
      "source": [
        "사각형 = 5\n",
        "탐색가능지역 = 3\n",
        "answer = []\n",
        "for i in range(사각형 - 탐색가능지역 + 1):\n",
        "    for j in range(사각형 - 탐색가능지역 + 1):\n",
        "        answer.append(arr[i:i+탐색가능지역, j:j+탐색가능지역].sum())\n",
        "\n",
        "max(answer)"
      ],
      "metadata": {
        "colab": {
          "base_uri": "https://localhost:8080/"
        },
        "id": "ZIXElsRVV5pN",
        "outputId": "99695a2d-9a8c-4b08-f535-69192368946c"
      },
      "execution_count": null,
      "outputs": [
        {
          "output_type": "execute_result",
          "data": {
            "text/plain": [
              "3"
            ]
          },
          "metadata": {},
          "execution_count": 64
        }
      ]
    },
    {
      "cell_type": "code",
      "source": [
        "answer = [[1, 0, 0],\n",
        "          [0, 1, 0],\n",
        "          [0, 0, 0]]\n",
        "\n",
        "# sum(answer) # error\n",
        "sum(answer, [])\n",
        "sum(sum(answer, []))"
      ],
      "metadata": {
        "colab": {
          "base_uri": "https://localhost:8080/"
        },
        "id": "tZ_RA4KpWPc9",
        "outputId": "7e7aeb77-2fe8-46b6-8583-a4aa1cf0a745"
      },
      "execution_count": null,
      "outputs": [
        {
          "output_type": "execute_result",
          "data": {
            "text/plain": [
              "[1, 0, 0, 0, 1, 0, 0, 0, 0]"
            ]
          },
          "metadata": {},
          "execution_count": 66
        }
      ]
    },
    {
      "cell_type": "markdown",
      "source": [
        "# 78번"
      ],
      "metadata": {
        "id": "MxlpMFDZbkoo"
      }
    },
    {
      "cell_type": "code",
      "source": [
        "from collections import deque\n",
        "\n",
        "n = 6\n",
        "f = 2\n",
        "food = list(range(1, n + 1))\n",
        "food"
      ],
      "metadata": {
        "colab": {
          "base_uri": "https://localhost:8080/"
        },
        "id": "5gfACgH-bmTy",
        "outputId": "a4a9b69e-2c4c-4ce8-8a03-71da6b72cbd4"
      },
      "execution_count": null,
      "outputs": [
        {
          "output_type": "execute_result",
          "data": {
            "text/plain": [
              "[1, 2, 3, 4, 5, 6]"
            ]
          },
          "metadata": {},
          "execution_count": 67
        }
      ]
    },
    {
      "cell_type": "code",
      "source": [
        "food_r = deque(food)\n",
        "food_r.popleft()\n",
        "food_r.rotate(-2)\n",
        "food_r"
      ],
      "metadata": {
        "colab": {
          "base_uri": "https://localhost:8080/"
        },
        "id": "cONk9mh0b2AH",
        "outputId": "b9a45c5d-542c-4055-f702-8ef17104b777"
      },
      "execution_count": null,
      "outputs": [
        {
          "output_type": "execute_result",
          "data": {
            "text/plain": [
              "deque([4, 5, 6, 2, 3])"
            ]
          },
          "metadata": {},
          "execution_count": 75
        }
      ]
    },
    {
      "cell_type": "code",
      "source": [
        "food_r = deque(food)\n",
        "print(f'먹은 음식: {food_r.popleft()}')\n",
        "food_r.rotate(-2)\n",
        "print(f'회전 후: {food_r}')\n",
        "\n",
        "print(f'먹은 음식: {food_r.popleft()}')\n",
        "food_r.rotate(-2)\n",
        "print(f'회전 후: {food_r}')\n",
        "\n",
        "print(f'먹은 음식: {food_r.popleft()}')\n",
        "food_r.rotate(-2)\n",
        "print(f'회전 후: {food_r}')\n",
        "\n",
        "print(f'먹은 음식: {food_r.popleft()}')\n",
        "food_r.rotate(-2)\n",
        "print(f'회전 후: {food_r}')"
      ],
      "metadata": {
        "colab": {
          "base_uri": "https://localhost:8080/"
        },
        "id": "dhiIkxiOceW_",
        "outputId": "4056e538-b6f8-4ddc-dcc7-5ced2c18389b"
      },
      "execution_count": null,
      "outputs": [
        {
          "output_type": "stream",
          "name": "stdout",
          "text": [
            "먹은 음식: 1\n",
            "회전 후: deque([4, 5, 6, 2, 3])\n",
            "먹은 음식: 4\n",
            "회전 후: deque([2, 3, 5, 6])\n",
            "먹은 음식: 2\n",
            "회전 후: deque([6, 3, 5])\n",
            "먹은 음식: 6\n",
            "회전 후: deque([3, 5])\n"
          ]
        }
      ]
    },
    {
      "cell_type": "code",
      "source": [
        "from collections import deque\n",
        "\n",
        "def solution(n, k):\n",
        "    food = range(1, n + 1)\n",
        "    food_r = deque(food)\n",
        "\n",
        "    while len(food_r) > 2:\n",
        "        print(f'먹은 음식: {food_r.popleft()}')\n",
        "        food_r.rotate(-(k-1))\n",
        "        print(f'회전 후: {food_r}')\n",
        "\n",
        "    return list(food_r)\n",
        "\n",
        "solution(6, 3)"
      ],
      "metadata": {
        "colab": {
          "base_uri": "https://localhost:8080/"
        },
        "id": "3jl37h9jdCSY",
        "outputId": "950ea91b-b7a1-4e07-fd5f-0f80f8870395"
      },
      "execution_count": null,
      "outputs": [
        {
          "output_type": "stream",
          "name": "stdout",
          "text": [
            "먹은 음식: 1\n",
            "회전 후: deque([4, 5, 6, 2, 3])\n",
            "먹은 음식: 4\n",
            "회전 후: deque([2, 3, 5, 6])\n",
            "먹은 음식: 2\n",
            "회전 후: deque([6, 3, 5])\n",
            "먹은 음식: 6\n",
            "회전 후: deque([3, 5])\n"
          ]
        },
        {
          "output_type": "execute_result",
          "data": {
            "text/plain": [
              "[3, 5]"
            ]
          },
          "metadata": {},
          "execution_count": 80
        }
      ]
    },
    {
      "cell_type": "markdown",
      "source": [
        "# 81번"
      ],
      "metadata": {
        "id": "EYF7NEuee7Nq"
      }
    },
    {
      "cell_type": "code",
      "source": [
        "matrix = [\n",
        "    [0, 1, 0, 0, 0],\n",
        "    [0, 0, 0, 0, 0],\n",
        "    [0, 0, 0, 1, 0],\n",
        "    [0, 0, 1, 0, 0],\n",
        "    [0, 0, 0, 0, 0]\n",
        "]"
      ],
      "metadata": {
        "id": "a0nQ77E-e9I1"
      },
      "execution_count": null,
      "outputs": []
    },
    {
      "cell_type": "code",
      "source": [
        "import numpy as np\n",
        "\n",
        "m = np.array(matrix)\n",
        "print(np.where(m == 1))\n",
        "value = list(map(list, np.where(m == 1)))\n",
        "list(zip(value[0], value[1]))"
      ],
      "metadata": {
        "colab": {
          "base_uri": "https://localhost:8080/"
        },
        "id": "WjnC2xv-yl22",
        "outputId": "74dcce81-3053-4cda-e14f-e288d9b00a4a"
      },
      "execution_count": null,
      "outputs": [
        {
          "output_type": "stream",
          "name": "stdout",
          "text": [
            "(array([0, 2, 3]), array([1, 3, 2]))\n"
          ]
        },
        {
          "output_type": "execute_result",
          "data": {
            "text/plain": [
              "[(0, 1), (2, 3), (3, 2)]"
            ]
          },
          "metadata": {},
          "execution_count": 91
        }
      ]
    },
    {
      "cell_type": "code",
      "source": [
        "matrix = [\n",
        "    [1, 0, 0, 0, 1],\n",
        "    [0, 0, 0, 0, 0],\n",
        "    [0, 0, 0, 1, 0],\n",
        "    [0, 0, 1, 0, 0],\n",
        "    [1, 0, 0, 0, 1]\n",
        "]"
      ],
      "metadata": {
        "id": "aJ8Y0_RLzyFG"
      },
      "execution_count": null,
      "outputs": []
    },
    {
      "cell_type": "code",
      "source": [
        "import numpy as np\n",
        "\n",
        "matrix_arr = np.array(matrix)\n",
        "matrix_arr = np.where(matrix_arr==1, 'f', matrix_arr)\n",
        "\n",
        "for v, h in zip(np.where(matrix_arr=='f')[0], np.where(matrix_arr=='f')[1]):\n",
        "\n",
        "    if v != 0:\n",
        "        matrix_arr[v-1, h] = '*'\n",
        "    if h != 0:\n",
        "        matrix_arr[v, h-1] = '*'\n",
        "    if v+1 < matrix_arr.shape[0]:\n",
        "        matrix_arr[v+1, h] = '*'\n",
        "    if h+1 < matrix_arr.shape[1]:\n",
        "        matrix_arr[v, h+1] = '*'\n",
        "\n",
        "print(matrix_arr)"
      ],
      "metadata": {
        "colab": {
          "base_uri": "https://localhost:8080/"
        },
        "id": "ZTM9grJyzs9P",
        "outputId": "002ebf9f-cc7a-4a83-dda5-7cc8dfdaed90"
      },
      "execution_count": null,
      "outputs": [
        {
          "output_type": "stream",
          "name": "stdout",
          "text": [
            "[['f' '*' '0' '*' 'f']\n",
            " ['*' '0' '0' '*' '*']\n",
            " ['0' '0' '*' 'f' '*']\n",
            " ['*' '*' 'f' '*' '*']\n",
            " ['f' '*' '*' '*' 'f']]\n"
          ]
        }
      ]
    },
    {
      "cell_type": "code",
      "source": [
        "import numpy as np\n",
        "\n",
        "matrix_arr = np.array(matrix)\n",
        "matrix_arr = np.where(matrix_arr==1, 'f', matrix_arr)\n",
        "\n",
        "for v, h in zip(np.where(matrix_arr=='f')[0], np.where(matrix_arr=='f')[1]):\n",
        "\n",
        "    if v != 0:\n",
        "        matrix_arr[v-1, h] = '*'\n",
        "    if h != 0:\n",
        "        matrix_arr[v, h-1] = '*'\n",
        "    if v+1 <= matrix_arr.shape[0]:\n",
        "        matrix_arr[v+1, h] = '*'\n",
        "    if h+1 <= matrix_arr.shape[1]:\n",
        "        matrix_arr[v, h+1] = '*'\n",
        "\n",
        "print(matrix_arr)"
      ],
      "metadata": {
        "id": "V6kpZDL1yese"
      },
      "execution_count": null,
      "outputs": []
    }
  ]
}